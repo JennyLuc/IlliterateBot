{
 "cells": [
  {
   "cell_type": "code",
   "execution_count": 13,
   "metadata": {
    "ExecuteTime": {
     "end_time": "2020-05-18T04:54:28.725452Z",
     "start_time": "2020-05-18T04:54:28.660665Z"
    }
   },
   "outputs": [],
   "source": [
    "import pandas as pd\n",
    "from sklearn.model_selection import train_test_split\n",
    "from sklearn.preprocessing import StandardScaler\n",
    "from sklearn.neural_network import MLPClassifier\n",
    "from sklearn.metrics import classification_report"
   ]
  },
  {
   "cell_type": "code",
   "execution_count": 2,
   "metadata": {
    "ExecuteTime": {
     "end_time": "2020-05-18T01:33:08.412717Z",
     "start_time": "2020-05-18T01:33:08.383782Z"
    }
   },
   "outputs": [],
   "source": [
    "meta = pd.read_csv('metadata.csv')"
   ]
  },
  {
   "cell_type": "code",
   "execution_count": 14,
   "metadata": {
    "ExecuteTime": {
     "end_time": "2020-05-18T04:54:40.213550Z",
     "start_time": "2020-05-18T04:54:34.992846Z"
    }
   },
   "outputs": [],
   "source": [
    "feature_df1 = pd.read_csv('feature1.csv')\n",
    "\n",
    "feature_df2 = pd.read_csv('feature2.csv')\n",
    "feature_df2['genre'] = meta['genre'][50:100].to_list()\n",
    "\n",
    "feature_df3 = pd.read_csv('feature3.csv')\n",
    "feature_df3['genre'] = meta['genre'][100:150].to_list()\n",
    "\n",
    "feature_df4 = pd.read_csv('feature4.csv')\n",
    "feature_df4['genre'] = meta['genre'][150:200].to_list()\n",
    "\n",
    "feature_df5 = pd.read_csv('feature5.csv')\n",
    "feature_df5['genre'] = meta['genre'][200:250].to_list()"
   ]
  },
  {
   "cell_type": "code",
   "execution_count": 15,
   "metadata": {
    "ExecuteTime": {
     "end_time": "2020-05-18T04:55:30.489707Z",
     "start_time": "2020-05-18T04:55:26.377788Z"
    }
   },
   "outputs": [
    {
     "data": {
      "text/html": [
       "<div>\n",
       "<style scoped>\n",
       "    .dataframe tbody tr th:only-of-type {\n",
       "        vertical-align: middle;\n",
       "    }\n",
       "\n",
       "    .dataframe tbody tr th {\n",
       "        vertical-align: top;\n",
       "    }\n",
       "\n",
       "    .dataframe thead th {\n",
       "        text-align: right;\n",
       "    }\n",
       "</style>\n",
       "<table border=\"1\" class=\"dataframe\">\n",
       "  <thead>\n",
       "    <tr style=\"text-align: right;\">\n",
       "      <th></th>\n",
       "      <th>0</th>\n",
       "      <th>1</th>\n",
       "      <th>2</th>\n",
       "      <th>3</th>\n",
       "      <th>4</th>\n",
       "      <th>5</th>\n",
       "      <th>6</th>\n",
       "      <th>7</th>\n",
       "      <th>8</th>\n",
       "      <th>9</th>\n",
       "      <th>...</th>\n",
       "      <th>14327</th>\n",
       "      <th>14328</th>\n",
       "      <th>14329</th>\n",
       "      <th>14330</th>\n",
       "      <th>14331</th>\n",
       "      <th>14332</th>\n",
       "      <th>14333</th>\n",
       "      <th>14334</th>\n",
       "      <th>14335</th>\n",
       "      <th>genre</th>\n",
       "    </tr>\n",
       "  </thead>\n",
       "  <tbody>\n",
       "    <tr>\n",
       "      <th>0</th>\n",
       "      <td>0.000000</td>\n",
       "      <td>0.0</td>\n",
       "      <td>0.000000</td>\n",
       "      <td>0.0</td>\n",
       "      <td>0.0</td>\n",
       "      <td>0.930601</td>\n",
       "      <td>0.0</td>\n",
       "      <td>0.0</td>\n",
       "      <td>0.0</td>\n",
       "      <td>0.0</td>\n",
       "      <td>...</td>\n",
       "      <td>0.0</td>\n",
       "      <td>0.0</td>\n",
       "      <td>0.0</td>\n",
       "      <td>0.0</td>\n",
       "      <td>0.0</td>\n",
       "      <td>0.0</td>\n",
       "      <td>0.0</td>\n",
       "      <td>0.0</td>\n",
       "      <td>0.0</td>\n",
       "      <td>Science</td>\n",
       "    </tr>\n",
       "    <tr>\n",
       "      <th>1</th>\n",
       "      <td>0.000000</td>\n",
       "      <td>0.0</td>\n",
       "      <td>0.000000</td>\n",
       "      <td>0.0</td>\n",
       "      <td>0.0</td>\n",
       "      <td>0.000000</td>\n",
       "      <td>0.0</td>\n",
       "      <td>0.0</td>\n",
       "      <td>0.0</td>\n",
       "      <td>0.0</td>\n",
       "      <td>...</td>\n",
       "      <td>0.0</td>\n",
       "      <td>0.0</td>\n",
       "      <td>0.0</td>\n",
       "      <td>0.0</td>\n",
       "      <td>0.0</td>\n",
       "      <td>0.0</td>\n",
       "      <td>0.0</td>\n",
       "      <td>0.0</td>\n",
       "      <td>0.0</td>\n",
       "      <td>Science</td>\n",
       "    </tr>\n",
       "    <tr>\n",
       "      <th>2</th>\n",
       "      <td>0.305162</td>\n",
       "      <td>0.0</td>\n",
       "      <td>59.545147</td>\n",
       "      <td>0.0</td>\n",
       "      <td>0.0</td>\n",
       "      <td>0.000000</td>\n",
       "      <td>0.0</td>\n",
       "      <td>0.0</td>\n",
       "      <td>0.0</td>\n",
       "      <td>0.0</td>\n",
       "      <td>...</td>\n",
       "      <td>0.0</td>\n",
       "      <td>0.0</td>\n",
       "      <td>0.0</td>\n",
       "      <td>0.0</td>\n",
       "      <td>0.0</td>\n",
       "      <td>0.0</td>\n",
       "      <td>0.0</td>\n",
       "      <td>0.0</td>\n",
       "      <td>0.0</td>\n",
       "      <td>Science</td>\n",
       "    </tr>\n",
       "    <tr>\n",
       "      <th>3</th>\n",
       "      <td>0.000000</td>\n",
       "      <td>0.0</td>\n",
       "      <td>0.000000</td>\n",
       "      <td>0.0</td>\n",
       "      <td>0.0</td>\n",
       "      <td>0.000000</td>\n",
       "      <td>0.0</td>\n",
       "      <td>0.0</td>\n",
       "      <td>0.0</td>\n",
       "      <td>0.0</td>\n",
       "      <td>...</td>\n",
       "      <td>0.0</td>\n",
       "      <td>0.0</td>\n",
       "      <td>0.0</td>\n",
       "      <td>0.0</td>\n",
       "      <td>0.0</td>\n",
       "      <td>0.0</td>\n",
       "      <td>0.0</td>\n",
       "      <td>0.0</td>\n",
       "      <td>0.0</td>\n",
       "      <td>Science</td>\n",
       "    </tr>\n",
       "    <tr>\n",
       "      <th>4</th>\n",
       "      <td>0.000000</td>\n",
       "      <td>0.0</td>\n",
       "      <td>0.000000</td>\n",
       "      <td>0.0</td>\n",
       "      <td>0.0</td>\n",
       "      <td>13.751031</td>\n",
       "      <td>0.0</td>\n",
       "      <td>0.0</td>\n",
       "      <td>0.0</td>\n",
       "      <td>0.0</td>\n",
       "      <td>...</td>\n",
       "      <td>0.0</td>\n",
       "      <td>0.0</td>\n",
       "      <td>0.0</td>\n",
       "      <td>0.0</td>\n",
       "      <td>0.0</td>\n",
       "      <td>0.0</td>\n",
       "      <td>0.0</td>\n",
       "      <td>0.0</td>\n",
       "      <td>0.0</td>\n",
       "      <td>Science</td>\n",
       "    </tr>\n",
       "  </tbody>\n",
       "</table>\n",
       "<p>5 rows × 14337 columns</p>\n",
       "</div>"
      ],
      "text/plain": [
       "          0    1          2    3    4          5    6    7    8    9  ...  \\\n",
       "0  0.000000  0.0   0.000000  0.0  0.0   0.930601  0.0  0.0  0.0  0.0  ...   \n",
       "1  0.000000  0.0   0.000000  0.0  0.0   0.000000  0.0  0.0  0.0  0.0  ...   \n",
       "2  0.305162  0.0  59.545147  0.0  0.0   0.000000  0.0  0.0  0.0  0.0  ...   \n",
       "3  0.000000  0.0   0.000000  0.0  0.0   0.000000  0.0  0.0  0.0  0.0  ...   \n",
       "4  0.000000  0.0   0.000000  0.0  0.0  13.751031  0.0  0.0  0.0  0.0  ...   \n",
       "\n",
       "   14327  14328  14329  14330  14331  14332  14333  14334  14335    genre  \n",
       "0    0.0    0.0    0.0    0.0    0.0    0.0    0.0    0.0    0.0  Science  \n",
       "1    0.0    0.0    0.0    0.0    0.0    0.0    0.0    0.0    0.0  Science  \n",
       "2    0.0    0.0    0.0    0.0    0.0    0.0    0.0    0.0    0.0  Science  \n",
       "3    0.0    0.0    0.0    0.0    0.0    0.0    0.0    0.0    0.0  Science  \n",
       "4    0.0    0.0    0.0    0.0    0.0    0.0    0.0    0.0    0.0  Science  \n",
       "\n",
       "[5 rows x 14337 columns]"
      ]
     },
     "execution_count": 15,
     "metadata": {},
     "output_type": "execute_result"
    }
   ],
   "source": [
    "feature_vectors = pd.concat([feature_df1, feature_df2, feature_df3, feature_df4, feature_df5], ignore_index=True)\n",
    "feature_vectors.to_csv('cnn_feature_vectors.csv', index = False)\n",
    "feature_vectors.head()"
   ]
  },
  {
   "cell_type": "code",
   "execution_count": 11,
   "metadata": {
    "ExecuteTime": {
     "end_time": "2020-05-17T03:30:33.048824Z",
     "start_time": "2020-05-17T03:30:33.006938Z"
    }
   },
   "outputs": [],
   "source": [
    "d = {'Horror':1, 'Crime': 0, 'Romance': 2, 'Fantasy':3, 'Science':4}\n",
    "vectors = feature_vectors.drop(['genre'], axis=1)\n",
    "vector_targets = feature_vectors['genre'].map(d, na_action='ignore')"
   ]
  },
  {
   "cell_type": "code",
   "execution_count": 13,
   "metadata": {
    "ExecuteTime": {
     "end_time": "2020-05-17T03:36:11.603075Z",
     "start_time": "2020-05-17T03:36:11.419414Z"
    }
   },
   "outputs": [],
   "source": [
    "X_train, X_test, y_train, y_test = train_test_split(vectors, vector_targets)\n",
    "\n",
    "scaler = StandardScaler()\n",
    "scaler.fit(X_train)\n",
    "StandardScaler(copy=True, with_mean=True, with_std=True)\n",
    "X_train = scaler.transform(X_train)\n",
    "X_test = scaler.transform(X_test)"
   ]
  },
  {
   "cell_type": "code",
   "execution_count": 19,
   "metadata": {
    "ExecuteTime": {
     "end_time": "2020-05-17T04:59:41.457099Z",
     "start_time": "2020-05-17T04:59:37.535619Z"
    }
   },
   "outputs": [
    {
     "name": "stdout",
     "output_type": "stream",
     "text": [
      "              precision    recall  f1-score   support\n",
      "\n",
      "           0       0.12      0.07      0.09        15\n",
      "           1       0.24      0.44      0.31         9\n",
      "           2       0.31      0.62      0.42         8\n",
      "           3       0.40      0.27      0.32        15\n",
      "           4       0.33      0.25      0.29        16\n",
      "\n",
      "   micro avg       0.29      0.29      0.29        63\n",
      "   macro avg       0.28      0.33      0.28        63\n",
      "weighted avg       0.28      0.29      0.27        63\n",
      "\n"
     ]
    }
   ],
   "source": [
    "mlp = MLPClassifier(hidden_layer_sizes=(100,100,100),max_iter=500, activation = 'identity', learning_rate = 'adaptive')\n",
    "mlp.fit(X_train,y_train)\n",
    "predictions = mlp.predict(X_test)\n",
    "print(classification_report(y_test,predictions))"
   ]
  },
  {
   "cell_type": "code",
   "execution_count": 4,
   "metadata": {
    "ExecuteTime": {
     "end_time": "2020-05-18T01:33:26.479691Z",
     "start_time": "2020-05-18T01:33:26.438898Z"
    }
   },
   "outputs": [
    {
     "data": {
      "text/html": [
       "<div>\n",
       "<style scoped>\n",
       "    .dataframe tbody tr th:only-of-type {\n",
       "        vertical-align: middle;\n",
       "    }\n",
       "\n",
       "    .dataframe tbody tr th {\n",
       "        vertical-align: top;\n",
       "    }\n",
       "\n",
       "    .dataframe thead th {\n",
       "        text-align: right;\n",
       "    }\n",
       "</style>\n",
       "<table border=\"1\" class=\"dataframe\">\n",
       "  <thead>\n",
       "    <tr style=\"text-align: right;\">\n",
       "      <th></th>\n",
       "      <th>Unnamed: 0</th>\n",
       "      <th>cover_id</th>\n",
       "      <th>title</th>\n",
       "      <th>author</th>\n",
       "      <th>year</th>\n",
       "      <th>genre</th>\n",
       "      <th>genre_alts</th>\n",
       "      <th>pixel_count</th>\n",
       "      <th>mean_brightness</th>\n",
       "      <th>mean_hue</th>\n",
       "      <th>mean_saturation</th>\n",
       "      <th>entropy</th>\n",
       "    </tr>\n",
       "  </thead>\n",
       "  <tbody>\n",
       "    <tr>\n",
       "      <th>0</th>\n",
       "      <td>257</td>\n",
       "      <td>5010523</td>\n",
       "      <td>DiscoveryWorks</td>\n",
       "      <td>William Badders</td>\n",
       "      <td>NaN</td>\n",
       "      <td>Science</td>\n",
       "      <td>['Science', 'Study and teaching']</td>\n",
       "      <td>21248</td>\n",
       "      <td>0.801393</td>\n",
       "      <td>0.270078</td>\n",
       "      <td>0.682315</td>\n",
       "      <td>123102.384766</td>\n",
       "    </tr>\n",
       "    <tr>\n",
       "      <th>1</th>\n",
       "      <td>328</td>\n",
       "      <td>7225312</td>\n",
       "      <td>Chemicals of Life</td>\n",
       "      <td>Isaac Asimov</td>\n",
       "      <td>NaN</td>\n",
       "      <td>Science</td>\n",
       "      <td>['organic chemistry', 'Biology', 'Biochemistry...</td>\n",
       "      <td>139000</td>\n",
       "      <td>0.303683</td>\n",
       "      <td>0.189660</td>\n",
       "      <td>0.716836</td>\n",
       "      <td>619915.788392</td>\n",
       "    </tr>\n",
       "    <tr>\n",
       "      <th>2</th>\n",
       "      <td>375</td>\n",
       "      <td>28269</td>\n",
       "      <td>The Curious Life of Robert Hooke</td>\n",
       "      <td>Lisa Jardine</td>\n",
       "      <td>NaN</td>\n",
       "      <td>Science</td>\n",
       "      <td>['History', 'Science', 'Accessible book', 'Pro...</td>\n",
       "      <td>150575</td>\n",
       "      <td>0.321481</td>\n",
       "      <td>0.134043</td>\n",
       "      <td>0.225062</td>\n",
       "      <td>573382.454617</td>\n",
       "    </tr>\n",
       "    <tr>\n",
       "      <th>3</th>\n",
       "      <td>96</td>\n",
       "      <td>310408</td>\n",
       "      <td>One, two, three ... infinity</td>\n",
       "      <td>George Gamow</td>\n",
       "      <td>NaN</td>\n",
       "      <td>Science</td>\n",
       "      <td>['Science', 'Accessible book', 'physics', 'Pro...</td>\n",
       "      <td>141550</td>\n",
       "      <td>0.468131</td>\n",
       "      <td>0.503024</td>\n",
       "      <td>0.735062</td>\n",
       "      <td>514384.933285</td>\n",
       "    </tr>\n",
       "    <tr>\n",
       "      <th>4</th>\n",
       "      <td>136</td>\n",
       "      <td>1173785</td>\n",
       "      <td>How to Write and Publish a Scientific Paper</td>\n",
       "      <td>Robert A. Day</td>\n",
       "      <td>NaN</td>\n",
       "      <td>Science</td>\n",
       "      <td>['Wetenschappelijke publicaties', 'Protected D...</td>\n",
       "      <td>151500</td>\n",
       "      <td>0.417190</td>\n",
       "      <td>0.456612</td>\n",
       "      <td>0.576622</td>\n",
       "      <td>679999.039310</td>\n",
       "    </tr>\n",
       "  </tbody>\n",
       "</table>\n",
       "</div>"
      ],
      "text/plain": [
       "   Unnamed: 0  cover_id                                        title  \\\n",
       "0         257   5010523                               DiscoveryWorks   \n",
       "1         328   7225312                            Chemicals of Life   \n",
       "2         375     28269             The Curious Life of Robert Hooke   \n",
       "3          96    310408                 One, two, three ... infinity   \n",
       "4         136   1173785  How to Write and Publish a Scientific Paper   \n",
       "\n",
       "            author  year    genre  \\\n",
       "0  William Badders   NaN  Science   \n",
       "1     Isaac Asimov   NaN  Science   \n",
       "2     Lisa Jardine   NaN  Science   \n",
       "3     George Gamow   NaN  Science   \n",
       "4    Robert A. Day   NaN  Science   \n",
       "\n",
       "                                          genre_alts  pixel_count  \\\n",
       "0                  ['Science', 'Study and teaching']        21248   \n",
       "1  ['organic chemistry', 'Biology', 'Biochemistry...       139000   \n",
       "2  ['History', 'Science', 'Accessible book', 'Pro...       150575   \n",
       "3  ['Science', 'Accessible book', 'physics', 'Pro...       141550   \n",
       "4  ['Wetenschappelijke publicaties', 'Protected D...       151500   \n",
       "\n",
       "   mean_brightness  mean_hue  mean_saturation        entropy  \n",
       "0         0.801393  0.270078         0.682315  123102.384766  \n",
       "1         0.303683  0.189660         0.716836  619915.788392  \n",
       "2         0.321481  0.134043         0.225062  573382.454617  \n",
       "3         0.468131  0.503024         0.735062  514384.933285  \n",
       "4         0.417190  0.456612         0.576622  679999.039310  "
      ]
     },
     "execution_count": 4,
     "metadata": {},
     "output_type": "execute_result"
    }
   ],
   "source": [
    "meta.head()"
   ]
  },
  {
   "cell_type": "code",
   "execution_count": 10,
   "metadata": {
    "ExecuteTime": {
     "end_time": "2020-05-18T01:36:41.721727Z",
     "start_time": "2020-05-18T01:36:41.706992Z"
    }
   },
   "outputs": [],
   "source": [
    "d = {'Horror':1, 'Crime': 0, 'Romance': 2, 'Fantasy':3, 'Science':4}\n",
    "meta_data = meta[['mean_brightness', 'mean_hue', 'mean_saturation', 'entropy']]\n",
    "meta_targets = meta['genre'].map(d, na_action='ignore')"
   ]
  },
  {
   "cell_type": "code",
   "execution_count": 11,
   "metadata": {
    "ExecuteTime": {
     "end_time": "2020-05-18T01:37:04.326439Z",
     "start_time": "2020-05-18T01:37:04.305695Z"
    }
   },
   "outputs": [],
   "source": [
    "X_train, X_test, y_train, y_test = train_test_split(meta_data, meta_targets)\n",
    "\n",
    "\n",
    "scaler = StandardScaler()\n",
    "scaler.fit(X_train)\n",
    "StandardScaler(copy=True, with_mean=True, with_std=True)\n",
    "X_train = scaler.transform(X_train)\n",
    "X_test = scaler.transform(X_test)"
   ]
  },
  {
   "cell_type": "code",
   "execution_count": 12,
   "metadata": {
    "ExecuteTime": {
     "end_time": "2020-05-18T01:37:10.613008Z",
     "start_time": "2020-05-18T01:37:10.521383Z"
    }
   },
   "outputs": [
    {
     "name": "stdout",
     "output_type": "stream",
     "text": [
      "              precision    recall  f1-score   support\n",
      "\n",
      "           0       0.43      0.20      0.27        15\n",
      "           1       0.45      0.90      0.60        10\n",
      "           2       0.29      0.31      0.30        13\n",
      "           3       0.25      0.17      0.20        12\n",
      "           4       0.29      0.31      0.30        13\n",
      "\n",
      "   micro avg       0.35      0.35      0.35        63\n",
      "   macro avg       0.34      0.38      0.33        63\n",
      "weighted avg       0.34      0.35      0.32        63\n",
      "\n"
     ]
    }
   ],
   "source": [
    "mlp = MLPClassifier(hidden_layer_sizes=(100,100,100),max_iter=500, activation = 'identity', learning_rate = 'adaptive')\n",
    "mlp.fit(X_train,y_train)\n",
    "predictions = mlp.predict(X_test)\n",
    "print(classification_report(y_test,predictions))"
   ]
  },
  {
   "cell_type": "code",
   "execution_count": null,
   "metadata": {},
   "outputs": [],
   "source": []
  }
 ],
 "metadata": {
  "kernelspec": {
   "display_name": "Python 3",
   "language": "python",
   "name": "python3"
  },
  "language_info": {
   "codemirror_mode": {
    "name": "ipython",
    "version": 3
   },
   "file_extension": ".py",
   "mimetype": "text/x-python",
   "name": "python",
   "nbconvert_exporter": "python",
   "pygments_lexer": "ipython3",
   "version": "3.7.3"
  },
  "toc": {
   "base_numbering": 1,
   "nav_menu": {},
   "number_sections": true,
   "sideBar": true,
   "skip_h1_title": false,
   "title_cell": "Table of Contents",
   "title_sidebar": "Contents",
   "toc_cell": false,
   "toc_position": {},
   "toc_section_display": true,
   "toc_window_display": false
  }
 },
 "nbformat": 4,
 "nbformat_minor": 2
}
