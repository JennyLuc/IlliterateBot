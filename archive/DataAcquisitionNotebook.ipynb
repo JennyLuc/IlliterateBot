{
 "cells": [
  {
   "cell_type": "code",
   "execution_count": 41,
   "metadata": {},
   "outputs": [],
   "source": [
    "import requests\n",
    "from bs4 import BeautifulSoup\n",
    "import time\n",
    "import urllib.request\n",
    "import pandas as pd\n",
    "import json\n",
    "import ast"
   ]
  },
  {
   "cell_type": "markdown",
   "metadata": {},
   "source": [
    "# Approach 1: Using Book API"
   ]
  },
  {
   "cell_type": "code",
   "execution_count": 71,
   "metadata": {},
   "outputs": [],
   "source": [
    "book_collection_info = []\n",
    "coverID = 1501\n",
    "max_coverID = 2000"
   ]
  },
  {
   "cell_type": "code",
   "execution_count": 72,
   "metadata": {},
   "outputs": [
    {
     "name": "stdout",
     "output_type": "stream",
     "text": [
      "1550  Books Parsed\n",
      "1600  Books Parsed\n",
      "1650  Books Parsed\n",
      "1700  Books Parsed\n",
      "1750  Books Parsed\n",
      "1800  Books Parsed\n",
      "1850  Books Parsed\n",
      "1900  Books Parsed\n",
      "1950  Books Parsed\n"
     ]
    }
   ],
   "source": [
    "while coverID < max_coverID:\n",
    "    if (coverID % 50) == 0:\n",
    "        print(coverID,' Books Parsed')\n",
    "    if len(id_lookup[id_lookup[3]==str(coverID)][1]) == 0:\n",
    "        coverID += 1\n",
    "        continue\n",
    "    isbn = id_lookup[id_lookup[3]==str(coverID)][1].iloc[0]\n",
    "    url = 'https://openlibrary.org/api/books?bibkeys=ISBN:'+isbn+'&jscmd=details&format=json'\n",
    "    resp = requests.get(url)\n",
    "    json_details = resp.json()['ISBN:'+isbn]['details']\n",
    "    \n",
    "    book_info = [coverID,isbn]\n",
    "    lst_keys = ['title','authors','publish_date','subjects']\n",
    "    for key in lst_keys:\n",
    "        if key not in json_details.keys():\n",
    "            book_info.append(None)\n",
    "        else:\n",
    "            info = json_details[key]\n",
    "            book_info.append(info)\n",
    "    \n",
    "    book_collection_info.append(book_info)\n",
    "    \n",
    "    coverID += 1\n",
    "    time.sleep(2)\n",
    "    \n",
    "    \n",
    "    \n",
    "    \n",
    "    \n",
    "    "
   ]
  },
  {
   "cell_type": "code",
   "execution_count": 74,
   "metadata": {},
   "outputs": [
    {
     "data": {
      "text/plain": [
       "2000"
      ]
     },
     "execution_count": 74,
     "metadata": {},
     "output_type": "execute_result"
    }
   ],
   "source": [
    "coverID"
   ]
  },
  {
   "cell_type": "code",
   "execution_count": 75,
   "metadata": {},
   "outputs": [
    {
     "data": {
      "text/plain": [
       "373"
      ]
     },
     "execution_count": 75,
     "metadata": {},
     "output_type": "execute_result"
    }
   ],
   "source": [
    "len(book_collection_info)"
   ]
  },
  {
   "cell_type": "code",
   "execution_count": 76,
   "metadata": {},
   "outputs": [],
   "source": [
    "cnt_subjects = 0\n",
    "for i in range(len(book_collection_info)):\n",
    "    if book_collection_info[i][5] is None:\n",
    "        continue\n",
    "    else:\n",
    "        cnt_subjects += 1"
   ]
  },
  {
   "cell_type": "code",
   "execution_count": 77,
   "metadata": {},
   "outputs": [
    {
     "data": {
      "text/plain": [
       "183"
      ]
     },
     "execution_count": 77,
     "metadata": {},
     "output_type": "execute_result"
    }
   ],
   "source": [
    "cnt_subjects"
   ]
  },
  {
   "cell_type": "code",
   "execution_count": 24,
   "metadata": {},
   "outputs": [],
   "source": [
    "def get_metadata(book):\n",
    "#param: a list of raw info about book\n",
    "#returns: dictionary of cover id, isbn, title, author, date, and genre\n",
    "\n",
    "    genres = ['Art', 'Biography', 'Business','Children', 'Christian', 'Classics', 'Comics', 'Contemporary', 'Cookbooks', \n",
    "          'Crime','Fantasy', 'Fiction', 'Graphic Novels', 'Historical', 'Fiction', 'History', 'Horror', 'Manga',\n",
    "          'Music', 'Mystery', 'Nonfiction', 'Paranormal', 'Philosophy', 'Poetry', 'Psychology', 'Religion', 'Romance', \n",
    "          'Science', 'Science Fiction', 'Self Help', 'Suspense', 'Sports', 'Thriller', 'Travel', 'Young Adult']\n",
    "    d = {}\n",
    "    d['cover_id']= int(book[0])\n",
    "    \n",
    "    d['isbn'] = book[1] if book[1] != None else None\n",
    "    d['title'] = book[2] if book[2] != None else None\n",
    "    d['author'] = book[3][0]['name'] if book[3] != None else None\n",
    "    d['date'] = book[4] if book[4] != None else None\n",
    "    \n",
    "    if book[5] != None:\n",
    "        genre_list = [genre for genre in genres if any(genre in xs for xs in book[5])]\n",
    "        if len(genre_list) == 0:\n",
    "            genre = None\n",
    "        else:\n",
    "            genre = list(set(genre_list))\n",
    "    else: \n",
    "        genre = None\n",
    "    d['genre'] = genre\n",
    "    \n",
    "    return d"
   ]
  },
  {
   "cell_type": "code",
   "execution_count": 85,
   "metadata": {},
   "outputs": [],
   "source": [
    "metadata = []\n",
    "for book in book_collection_info:\n",
    "    metadata.append(get_metadata(book))"
   ]
  },
  {
   "cell_type": "code",
   "execution_count": 86,
   "metadata": {},
   "outputs": [],
   "source": [
    "df_metadata = pd.DataFrame(metadata)"
   ]
  },
  {
   "cell_type": "code",
   "execution_count": 87,
   "metadata": {},
   "outputs": [],
   "source": [
    "df_metadata.to_csv('metadata_0_to_500.csv')"
   ]
  },
  {
   "cell_type": "code",
   "execution_count": 88,
   "metadata": {},
   "outputs": [
    {
     "data": {
      "text/html": [
       "<div>\n",
       "<style scoped>\n",
       "    .dataframe tbody tr th:only-of-type {\n",
       "        vertical-align: middle;\n",
       "    }\n",
       "\n",
       "    .dataframe tbody tr th {\n",
       "        vertical-align: top;\n",
       "    }\n",
       "\n",
       "    .dataframe thead th {\n",
       "        text-align: right;\n",
       "    }\n",
       "</style>\n",
       "<table border=\"1\" class=\"dataframe\">\n",
       "  <thead>\n",
       "    <tr style=\"text-align: right;\">\n",
       "      <th></th>\n",
       "      <th>cover_id</th>\n",
       "      <th>isbn</th>\n",
       "      <th>title</th>\n",
       "      <th>author</th>\n",
       "      <th>date</th>\n",
       "      <th>genre</th>\n",
       "    </tr>\n",
       "  </thead>\n",
       "  <tbody>\n",
       "    <tr>\n",
       "      <td>1</td>\n",
       "      <td>2</td>\n",
       "      <td>0001004344</td>\n",
       "      <td>Mog Forgetful Cat Book</td>\n",
       "      <td>Judith Kerr</td>\n",
       "      <td>June 1, 1992</td>\n",
       "      <td>[Fiction, Children]</td>\n",
       "    </tr>\n",
       "    <tr>\n",
       "      <td>2</td>\n",
       "      <td>5</td>\n",
       "      <td>0001006789</td>\n",
       "      <td>The Tiger Who Came to Tea</td>\n",
       "      <td>Judith Kerr</td>\n",
       "      <td>June 3, 1996</td>\n",
       "      <td>[Fiction, Children]</td>\n",
       "    </tr>\n",
       "    <tr>\n",
       "      <td>4</td>\n",
       "      <td>7</td>\n",
       "      <td>0001010468</td>\n",
       "      <td>One Snowy Night (Percy's Park)</td>\n",
       "      <td>None</td>\n",
       "      <td>September 16, 1993</td>\n",
       "      <td>[Fiction]</td>\n",
       "    </tr>\n",
       "    <tr>\n",
       "      <td>5</td>\n",
       "      <td>10</td>\n",
       "      <td>0001016199</td>\n",
       "      <td>The Magician's Nephew (Chronicles of Narnia)</td>\n",
       "      <td>C. S. Lewis</td>\n",
       "      <td>October 7, 2002</td>\n",
       "      <td>[Children]</td>\n",
       "    </tr>\n",
       "    <tr>\n",
       "      <td>6</td>\n",
       "      <td>16</td>\n",
       "      <td>000102521X</td>\n",
       "      <td>The Fatal Strand (Tales from the Wyrd Museum)</td>\n",
       "      <td>None</td>\n",
       "      <td>October 5, 1998</td>\n",
       "      <td>[Horror]</td>\n",
       "    </tr>\n",
       "    <tr>\n",
       "      <td>...</td>\n",
       "      <td>...</td>\n",
       "      <td>...</td>\n",
       "      <td>...</td>\n",
       "      <td>...</td>\n",
       "      <td>...</td>\n",
       "      <td>...</td>\n",
       "    </tr>\n",
       "    <tr>\n",
       "      <td>259</td>\n",
       "      <td>466</td>\n",
       "      <td>000200724X</td>\n",
       "      <td>Causeway</td>\n",
       "      <td>Linden Macintyre</td>\n",
       "      <td>August 2006</td>\n",
       "      <td>[Art, Biography]</td>\n",
       "    </tr>\n",
       "    <tr>\n",
       "      <td>262</td>\n",
       "      <td>473</td>\n",
       "      <td>000200769X</td>\n",
       "      <td>Invisible Armies</td>\n",
       "      <td>Jon Evans</td>\n",
       "      <td>May 2006</td>\n",
       "      <td>[Fiction]</td>\n",
       "    </tr>\n",
       "    <tr>\n",
       "      <td>263</td>\n",
       "      <td>474</td>\n",
       "      <td>0002007770</td>\n",
       "      <td>Water for Elephants</td>\n",
       "      <td>Sara Gruen</td>\n",
       "      <td>May 2006</td>\n",
       "      <td>[Fiction]</td>\n",
       "    </tr>\n",
       "    <tr>\n",
       "      <td>264</td>\n",
       "      <td>477</td>\n",
       "      <td>0002007800</td>\n",
       "      <td>The Devil's Picnic</td>\n",
       "      <td>Taras Grescoe</td>\n",
       "      <td>February 2006</td>\n",
       "      <td>[Travel]</td>\n",
       "    </tr>\n",
       "    <tr>\n",
       "      <td>267</td>\n",
       "      <td>483</td>\n",
       "      <td>0002007932</td>\n",
       "      <td>The Horse God Built</td>\n",
       "      <td>Lawrence Scanlan</td>\n",
       "      <td>September 2006</td>\n",
       "      <td>[Fiction]</td>\n",
       "    </tr>\n",
       "  </tbody>\n",
       "</table>\n",
       "<p>167 rows × 6 columns</p>\n",
       "</div>"
      ],
      "text/plain": [
       "     cover_id        isbn                                          title  \\\n",
       "1           2  0001004344                         Mog Forgetful Cat Book   \n",
       "2           5  0001006789                      The Tiger Who Came to Tea   \n",
       "4           7  0001010468                 One Snowy Night (Percy's Park)   \n",
       "5          10  0001016199   The Magician's Nephew (Chronicles of Narnia)   \n",
       "6          16  000102521X  The Fatal Strand (Tales from the Wyrd Museum)   \n",
       "..        ...         ...                                            ...   \n",
       "259       466  000200724X                                       Causeway   \n",
       "262       473  000200769X                               Invisible Armies   \n",
       "263       474  0002007770                            Water for Elephants   \n",
       "264       477  0002007800                             The Devil's Picnic   \n",
       "267       483  0002007932                            The Horse God Built   \n",
       "\n",
       "               author                date                genre  \n",
       "1         Judith Kerr        June 1, 1992  [Fiction, Children]  \n",
       "2         Judith Kerr        June 3, 1996  [Fiction, Children]  \n",
       "4                None  September 16, 1993            [Fiction]  \n",
       "5         C. S. Lewis     October 7, 2002           [Children]  \n",
       "6                None     October 5, 1998             [Horror]  \n",
       "..                ...                 ...                  ...  \n",
       "259  Linden Macintyre         August 2006     [Art, Biography]  \n",
       "262         Jon Evans            May 2006            [Fiction]  \n",
       "263        Sara Gruen            May 2006            [Fiction]  \n",
       "264     Taras Grescoe       February 2006             [Travel]  \n",
       "267  Lawrence Scanlan      September 2006            [Fiction]  \n",
       "\n",
       "[167 rows x 6 columns]"
      ]
     },
     "execution_count": 88,
     "metadata": {},
     "output_type": "execute_result"
    }
   ],
   "source": [
    "df_metadata[df_metadata['genre'].notnull()]"
   ]
  },
  {
   "cell_type": "code",
   "execution_count": null,
   "metadata": {},
   "outputs": [],
   "source": []
  },
  {
   "cell_type": "code",
   "execution_count": null,
   "metadata": {},
   "outputs": [],
   "source": []
  },
  {
   "cell_type": "code",
   "execution_count": 4,
   "metadata": {},
   "outputs": [],
   "source": [
    "metadata_0_to_500 = pd.read_csv('metadata_0_to_500.csv')\n",
    "metadata_501_to_1000 = pd.read_csv('metadata_501_to_1000.csv')\n",
    "metadata_1001_to_1500 = pd.read_csv('metadata_1001_to_1500.csv')\n",
    "metadata_1501_to_2000 = pd.read_csv('metadata_1501_to_2000.csv')"
   ]
  },
  {
   "cell_type": "code",
   "execution_count": 11,
   "metadata": {},
   "outputs": [],
   "source": [
    "df_full = pd.concat([metadata_0_to_500,metadata_501_to_1000,metadata_1001_to_1500,metadata_1501_to_2000]).drop('Unnamed: 0',axis=1)"
   ]
  },
  {
   "cell_type": "code",
   "execution_count": 46,
   "metadata": {},
   "outputs": [],
   "source": [
    "lst_genre_col = df_full['genre'].tolist()\n",
    "for i in range(len(lst_genre_col)):\n",
    "    g_str = lst_genre_col[i]\n",
    "    if pd.isnull(g_str):\n",
    "        continue\n",
    "    else:\n",
    "        lst_genre_col[i] = ast.literal_eval(g_str)\n",
    "df_full['genre'] = pd.Series(lst_genre_col)"
   ]
  },
  {
   "cell_type": "code",
   "execution_count": 55,
   "metadata": {},
   "outputs": [],
   "source": [
    "genres = df_full['genre'].apply(pd.Series)\n",
    "genres.columns = ['genre','genre_alt1','genre_alt2']"
   ]
  },
  {
   "cell_type": "code",
   "execution_count": 57,
   "metadata": {},
   "outputs": [],
   "source": [
    "df_full['genre'] = genres['genre']\n",
    "df_full['genre_alt1'] = genres['genre_alt1']\n",
    "df_full['genre_alt2'] = genres['genre_alt2']"
   ]
  },
  {
   "cell_type": "code",
   "execution_count": 250,
   "metadata": {},
   "outputs": [
    {
     "data": {
      "text/plain": [
       "title\n",
       "Collins Pocket Guide               5\n",
       "Stonehenge                         5\n",
       "Faults and Fixes                   4\n",
       "Tuscany, the beautiful cookbook    3\n",
       "Apples                             3\n",
       "Name: cover_id, dtype: int64"
      ]
     },
     "execution_count": 250,
     "metadata": {},
     "output_type": "execute_result"
    }
   ],
   "source": [
    "df_full[df_full['genre'].notnull()].groupby('title')['cover_id'].count().sort_values(ascending=False).head(5)"
   ]
  },
  {
   "cell_type": "code",
   "execution_count": 252,
   "metadata": {},
   "outputs": [
    {
     "data": {
      "text/plain": [
       "523"
      ]
     },
     "execution_count": 252,
     "metadata": {},
     "output_type": "execute_result"
    }
   ],
   "source": [
    "df_full[df_full['genre'].notnull()]['title'].nunique()"
   ]
  },
  {
   "cell_type": "code",
   "execution_count": 86,
   "metadata": {},
   "outputs": [],
   "source": [
    "df_full['year'] = df_full['date'].str.slice(-4)\n",
    "df_full['year'] = df_full['year'].replace('r 21','1991')\n",
    "df_full['year'] = pd.to_datetime(df_full['year'], format='%Y')"
   ]
  },
  {
   "cell_type": "code",
   "execution_count": 95,
   "metadata": {},
   "outputs": [
    {
     "data": {
      "text/plain": [
       "<matplotlib.axes._subplots.AxesSubplot at 0x1675da66108>"
      ]
     },
     "execution_count": 95,
     "metadata": {},
     "output_type": "execute_result"
    },
    {
     "data": {
      "image/png": "[encoded data removed]",
      "text/plain": [
       "<Figure size 432x288 with 1 Axes>"
      ]
     },
     "metadata": {
      "needs_background": "light"
     },
     "output_type": "display_data"
    }
   ],
   "source": [
    "df_full.groupby('year')['genre'].count().plot()"
   ]
  },
  {
   "cell_type": "code",
   "execution_count": 101,
   "metadata": {},
   "outputs": [
    {
     "data": {
      "text/plain": [
       "<matplotlib.axes._subplots.AxesSubplot at 0x1675dcf3288>"
      ]
     },
     "execution_count": 101,
     "metadata": {},
     "output_type": "execute_result"
    },
    {
     "data": {
      "image/png": "[encoded data removed]",
      "text/plain": [
       "<Figure size 432x288 with 1 Axes>"
      ]
     },
     "metadata": {
      "needs_background": "light"
     },
     "output_type": "display_data"
    }
   ],
   "source": [
    "df_full.groupby('genre')['cover_id'].count().plot.bar()"
   ]
  },
  {
   "cell_type": "code",
   "execution_count": 103,
   "metadata": {},
   "outputs": [
    {
     "data": {
      "text/plain": [
       "<matplotlib.axes._subplots.AxesSubplot at 0x1675dd87588>"
      ]
     },
     "execution_count": 103,
     "metadata": {},
     "output_type": "execute_result"
    },
    {
     "data": {
      "image/png": "[encoded data removed]",
      "text/plain": [
       "<Figure size 432x288 with 1 Axes>"
      ]
     },
     "metadata": {
      "needs_background": "light"
     },
     "output_type": "display_data"
    }
   ],
   "source": [
    "df_full[df_full['genre']=='Fiction'].groupby('genre_alt1')['cover_id'].count().plot.bar()"
   ]
  },
  {
   "cell_type": "code",
   "execution_count": 104,
   "metadata": {},
   "outputs": [
    {
     "data": {
      "text/plain": [
       "<matplotlib.axes._subplots.AxesSubplot at 0x1675de31088>"
      ]
     },
     "execution_count": 104,
     "metadata": {},
     "output_type": "execute_result"
    },
    {
     "data": {
      "image/png": "[encoded data removed]",
      "text/plain": [
       "<Figure size 432x288 with 1 Axes>"
      ]
     },
     "metadata": {
      "needs_background": "light"
     },
     "output_type": "display_data"
    }
   ],
   "source": [
    "df_full[df_full['genre']=='Fiction'].groupby('genre_alt2')['cover_id'].count().plot.bar()"
   ]
  },
  {
   "cell_type": "markdown",
   "metadata": {},
   "source": [
    "# Approach 2: Subject API"
   ]
  },
  {
   "cell_type": "code",
   "execution_count": 142,
   "metadata": {},
   "outputs": [],
   "source": [
    "science_json = requests.get('http://openlibrary.org/subjects/science.json?details=True&limit=500').json()"
   ]
  },
  {
   "cell_type": "code",
   "execution_count": 198,
   "metadata": {},
   "outputs": [],
   "source": [
    "romance_json = requests.get('http://openlibrary.org/subjects/romance.json?details=True&limit=500').json()"
   ]
  },
  {
   "cell_type": "code",
   "execution_count": 201,
   "metadata": {},
   "outputs": [],
   "source": [
    "crime_json = requests.get('http://openlibrary.org/subjects/crime.json?details=True&limit=500').json()"
   ]
  },
  {
   "cell_type": "code",
   "execution_count": 203,
   "metadata": {},
   "outputs": [],
   "source": [
    "horror_json = requests.get('http://openlibrary.org/subjects/horror.json?details=True&limit=500').json()"
   ]
  },
  {
   "cell_type": "code",
   "execution_count": 205,
   "metadata": {},
   "outputs": [],
   "source": [
    "fantasy_json = requests.get('http://openlibrary.org/subjects/fantasy.json?details=True&limit=500').json()"
   ]
  },
  {
   "cell_type": "code",
   "execution_count": 207,
   "metadata": {},
   "outputs": [],
   "source": [
    "lst_genres = ['Science','Romance','Crime','Horror','Fantasy']\n",
    "lst_jsons = [science_json,romance_json,crime_json,horror_json,fantasy_json]\n",
    "lst_book_info = []\n",
    "for i in range(5):\n",
    "    g_json = lst_jsons[i]\n",
    "    g = lst_genres[i]\n",
    "    for book in g_json['works']:\n",
    "        cover_id = str(book['cover_id'])\n",
    "        title = book['title']\n",
    "        author = book['authors']\n",
    "        if author is None or len(author)==0: \n",
    "            author = None\n",
    "        else:\n",
    "            author = author[0]['name']\n",
    "        year = book['first_publish_year']\n",
    "        genre = g\n",
    "        genre_alts = book['subject']\n",
    "        book_info = [cover_id,title,author,year,genre,genre_alts]\n",
    "        lst_book_info.append(book_info)"
   ]
  },
  {
   "cell_type": "code",
   "execution_count": 208,
   "metadata": {},
   "outputs": [],
   "source": [
    "df_info = pd.DataFrame(lst_book_info)"
   ]
  },
  {
   "cell_type": "code",
   "execution_count": 209,
   "metadata": {},
   "outputs": [],
   "source": [
    "df_info.columns = ['cover_id','title','author','year','genre','genre_alts']"
   ]
  },
  {
   "cell_type": "code",
   "execution_count": 217,
   "metadata": {},
   "outputs": [
    {
     "data": {
      "text/plain": [
       "<matplotlib.axes._subplots.AxesSubplot at 0x167600dcdc8>"
      ]
     },
     "execution_count": 217,
     "metadata": {},
     "output_type": "execute_result"
    },
    {
     "data": {
      "image/png": "[encoded data removed]",
      "text/plain": [
       "<Figure size 432x288 with 1 Axes>"
      ]
     },
     "metadata": {
      "needs_background": "light"
     },
     "output_type": "display_data"
    }
   ],
   "source": [
    "df_info['genre'].hist()"
   ]
  },
  {
   "cell_type": "code",
   "execution_count": null,
   "metadata": {},
   "outputs": [],
   "source": []
  }
 ],
 "metadata": {
  "kernelspec": {
   "display_name": "Python 3",
   "language": "python",
   "name": "python3"
  },
  "language_info": {
   "codemirror_mode": {
    "name": "ipython",
    "version": 3
   },
   "file_extension": ".py",
   "mimetype": "text/x-python",
   "name": "python",
   "nbconvert_exporter": "python",
   "pygments_lexer": "ipython3",
   "version": "3.7.4"
  }
 },
 "nbformat": 4,
 "nbformat_minor": 2
}
