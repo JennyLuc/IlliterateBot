{
 "cells": [
  {
   "cell_type": "code",
   "execution_count": 2,
   "metadata": {},
   "outputs": [],
   "source": [
    "import numpy as np\n",
    "import urllib\n",
    "import cv2"
   ]
  },
  {
   "cell_type": "code",
   "execution_count": 4,
   "metadata": {},
   "outputs": [],
   "source": [
    "img = cv2.imread('images/1173785.jpg')\n",
    "gray = cv2.cvtColor(img, cv2.COLOR_BGR2GRAY)\n"
   ]
  },
  {
   "cell_type": "code",
   "execution_count": 7,
   "metadata": {},
   "outputs": [
    {
     "data": {
      "text/plain": [
       "array([[[ 52,  18,   2],\n",
       "        [ 52,  18,   2],\n",
       "        [ 52,  18,   2],\n",
       "        ...,\n",
       "        [ 52,  18,   2],\n",
       "        [ 52,  18,   2],\n",
       "        [ 52,  18,   2]],\n",
       "\n",
       "       [[ 52,  18,   2],\n",
       "        [ 52,  18,   2],\n",
       "        [ 52,  18,   2],\n",
       "        ...,\n",
       "        [ 52,  18,   2],\n",
       "        [ 52,  18,   2],\n",
       "        [ 52,  18,   2]],\n",
       "\n",
       "       [[ 52,  18,   2],\n",
       "        [ 52,  18,   2],\n",
       "        [ 52,  18,   2],\n",
       "        ...,\n",
       "        [ 52,  18,   2],\n",
       "        [ 52,  18,   2],\n",
       "        [ 52,  18,   2]],\n",
       "\n",
       "       ...,\n",
       "\n",
       "       [[ 52,  18,   2],\n",
       "        [ 52,  18,   2],\n",
       "        [ 52,  18,   2],\n",
       "        ...,\n",
       "        [ 37, 112, 121],\n",
       "        [ 37, 112, 121],\n",
       "        [ 37, 112, 121]],\n",
       "\n",
       "       [[ 52,  18,   2],\n",
       "        [ 52,  18,   2],\n",
       "        [ 52,  18,   2],\n",
       "        ...,\n",
       "        [ 37, 112, 121],\n",
       "        [ 37, 112, 121],\n",
       "        [ 37, 112, 121]],\n",
       "\n",
       "       [[ 52,  18,   2],\n",
       "        [ 52,  18,   2],\n",
       "        [ 52,  18,   2],\n",
       "        ...,\n",
       "        [ 37, 112, 121],\n",
       "        [ 37, 112, 121],\n",
       "        [ 37, 112, 121]]], dtype=uint8)"
      ]
     },
     "execution_count": 7,
     "metadata": {},
     "output_type": "execute_result"
    }
   ],
   "source": [
    "img"
   ]
  },
  {
   "cell_type": "code",
   "execution_count": null,
   "metadata": {},
   "outputs": [],
   "source": []
  }
 ],
 "metadata": {
  "kernelspec": {
   "display_name": "Python 3",
   "language": "python",
   "name": "python3"
  },
  "language_info": {
   "codemirror_mode": {
    "name": "ipython",
    "version": 3
   },
   "file_extension": ".py",
   "mimetype": "text/x-python",
   "name": "python",
   "nbconvert_exporter": "python",
   "pygments_lexer": "ipython3",
   "version": "3.7.4"
  }
 },
 "nbformat": 4,
 "nbformat_minor": 2
}
