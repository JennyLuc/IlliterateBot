{
 "cells": [
  {
   "cell_type": "code",
   "execution_count": 1,
   "metadata": {
    "ExecuteTime": {
     "end_time": "2020-05-15T16:25:23.539923Z",
     "start_time": "2020-05-15T16:25:19.936918Z"
    }
   },
   "outputs": [],
   "source": [
    "from colorthief import ColorThief\n",
    "import webcolors\n",
    "import pandas as pd"
   ]
  },
  {
   "cell_type": "code",
   "execution_count": 2,
   "metadata": {
    "ExecuteTime": {
     "end_time": "2020-05-15T16:25:23.911745Z",
     "start_time": "2020-05-15T16:25:23.832956Z"
    }
   },
   "outputs": [
    {
     "data": {
      "text/html": [
       "<div>\n",
       "<style scoped>\n",
       "    .dataframe tbody tr th:only-of-type {\n",
       "        vertical-align: middle;\n",
       "    }\n",
       "\n",
       "    .dataframe tbody tr th {\n",
       "        vertical-align: top;\n",
       "    }\n",
       "\n",
       "    .dataframe thead th {\n",
       "        text-align: right;\n",
       "    }\n",
       "</style>\n",
       "<table border=\"1\" class=\"dataframe\">\n",
       "  <thead>\n",
       "    <tr style=\"text-align: right;\">\n",
       "      <th></th>\n",
       "      <th>Unnamed: 0</th>\n",
       "      <th>cover_id</th>\n",
       "      <th>title</th>\n",
       "      <th>author</th>\n",
       "      <th>year</th>\n",
       "      <th>genre</th>\n",
       "      <th>genre_alts</th>\n",
       "      <th>pixel_count</th>\n",
       "      <th>mean_brightness</th>\n",
       "      <th>mean_hue</th>\n",
       "      <th>mean_saturation</th>\n",
       "      <th>entropy</th>\n",
       "    </tr>\n",
       "  </thead>\n",
       "  <tbody>\n",
       "    <tr>\n",
       "      <th>0</th>\n",
       "      <td>257</td>\n",
       "      <td>5010523</td>\n",
       "      <td>DiscoveryWorks</td>\n",
       "      <td>William Badders</td>\n",
       "      <td>NaN</td>\n",
       "      <td>Science</td>\n",
       "      <td>['Science', 'Study and teaching']</td>\n",
       "      <td>21248</td>\n",
       "      <td>0.801393</td>\n",
       "      <td>0.270078</td>\n",
       "      <td>0.682315</td>\n",
       "      <td>123102.384766</td>\n",
       "    </tr>\n",
       "    <tr>\n",
       "      <th>1</th>\n",
       "      <td>328</td>\n",
       "      <td>7225312</td>\n",
       "      <td>Chemicals of Life</td>\n",
       "      <td>Isaac Asimov</td>\n",
       "      <td>NaN</td>\n",
       "      <td>Science</td>\n",
       "      <td>['organic chemistry', 'Biology', 'Biochemistry...</td>\n",
       "      <td>139000</td>\n",
       "      <td>0.303683</td>\n",
       "      <td>0.189660</td>\n",
       "      <td>0.716836</td>\n",
       "      <td>619915.788392</td>\n",
       "    </tr>\n",
       "    <tr>\n",
       "      <th>2</th>\n",
       "      <td>375</td>\n",
       "      <td>28269</td>\n",
       "      <td>The Curious Life of Robert Hooke</td>\n",
       "      <td>Lisa Jardine</td>\n",
       "      <td>NaN</td>\n",
       "      <td>Science</td>\n",
       "      <td>['History', 'Science', 'Accessible book', 'Pro...</td>\n",
       "      <td>150575</td>\n",
       "      <td>0.321481</td>\n",
       "      <td>0.134043</td>\n",
       "      <td>0.225062</td>\n",
       "      <td>573382.454617</td>\n",
       "    </tr>\n",
       "    <tr>\n",
       "      <th>3</th>\n",
       "      <td>96</td>\n",
       "      <td>310408</td>\n",
       "      <td>One, two, three ... infinity</td>\n",
       "      <td>George Gamow</td>\n",
       "      <td>NaN</td>\n",
       "      <td>Science</td>\n",
       "      <td>['Science', 'Accessible book', 'physics', 'Pro...</td>\n",
       "      <td>141550</td>\n",
       "      <td>0.468131</td>\n",
       "      <td>0.503024</td>\n",
       "      <td>0.735062</td>\n",
       "      <td>514384.933285</td>\n",
       "    </tr>\n",
       "    <tr>\n",
       "      <th>4</th>\n",
       "      <td>136</td>\n",
       "      <td>1173785</td>\n",
       "      <td>How to Write and Publish a Scientific Paper</td>\n",
       "      <td>Robert A. Day</td>\n",
       "      <td>NaN</td>\n",
       "      <td>Science</td>\n",
       "      <td>['Wetenschappelijke publicaties', 'Protected D...</td>\n",
       "      <td>151500</td>\n",
       "      <td>0.417190</td>\n",
       "      <td>0.456612</td>\n",
       "      <td>0.576622</td>\n",
       "      <td>679999.039310</td>\n",
       "    </tr>\n",
       "  </tbody>\n",
       "</table>\n",
       "</div>"
      ],
      "text/plain": [
       "   Unnamed: 0  cover_id                                        title  \\\n",
       "0         257   5010523                               DiscoveryWorks   \n",
       "1         328   7225312                            Chemicals of Life   \n",
       "2         375     28269             The Curious Life of Robert Hooke   \n",
       "3          96    310408                 One, two, three ... infinity   \n",
       "4         136   1173785  How to Write and Publish a Scientific Paper   \n",
       "\n",
       "            author  year    genre  \\\n",
       "0  William Badders   NaN  Science   \n",
       "1     Isaac Asimov   NaN  Science   \n",
       "2     Lisa Jardine   NaN  Science   \n",
       "3     George Gamow   NaN  Science   \n",
       "4    Robert A. Day   NaN  Science   \n",
       "\n",
       "                                          genre_alts  pixel_count  \\\n",
       "0                  ['Science', 'Study and teaching']        21248   \n",
       "1  ['organic chemistry', 'Biology', 'Biochemistry...       139000   \n",
       "2  ['History', 'Science', 'Accessible book', 'Pro...       150575   \n",
       "3  ['Science', 'Accessible book', 'physics', 'Pro...       141550   \n",
       "4  ['Wetenschappelijke publicaties', 'Protected D...       151500   \n",
       "\n",
       "   mean_brightness  mean_hue  mean_saturation        entropy  \n",
       "0         0.801393  0.270078         0.682315  123102.384766  \n",
       "1         0.303683  0.189660         0.716836  619915.788392  \n",
       "2         0.321481  0.134043         0.225062  573382.454617  \n",
       "3         0.468131  0.503024         0.735062  514384.933285  \n",
       "4         0.417190  0.456612         0.576622  679999.039310  "
      ]
     },
     "execution_count": 2,
     "metadata": {},
     "output_type": "execute_result"
    }
   ],
   "source": [
    "meta = pd.read_csv('metadata.csv')\n",
    "meta.head()"
   ]
  },
  {
   "cell_type": "code",
   "execution_count": 7,
   "metadata": {
    "ExecuteTime": {
     "end_time": "2020-05-15T16:39:19.266631Z",
     "start_time": "2020-05-15T16:39:19.261641Z"
    }
   },
   "outputs": [],
   "source": [
    "def get_dom_color(coverid_list, folder):\n",
    "    dom_color_list = []\n",
    "    for coverid in coverid_list:\n",
    "        filename = \"{}/{}.jpg\".format(folder,coverid)\n",
    "        color_thief = ColorThief(filename)\n",
    "        dom_color_list.append(color_thief.get_color(quality=1))\n",
    "    return pd.DataFrame(dom_color_list)"
   ]
  },
  {
   "cell_type": "code",
   "execution_count": 9,
   "metadata": {
    "ExecuteTime": {
     "end_time": "2020-05-15T17:54:32.119644Z",
     "start_time": "2020-05-15T17:54:21.248836Z"
    }
   },
   "outputs": [
    {
     "ename": "KeyboardInterrupt",
     "evalue": "",
     "output_type": "error",
     "traceback": [
      "\u001b[1;31m---------------------------------------------------------------------------\u001b[0m",
      "\u001b[1;31mKeyboardInterrupt\u001b[0m                         Traceback (most recent call last)",
      "\u001b[1;32m<ipython-input-9-6fb729ed445a>\u001b[0m in \u001b[0;36m<module>\u001b[1;34m\u001b[0m\n\u001b[1;32m----> 1\u001b[1;33m \u001b[0mdom_color_df\u001b[0m \u001b[1;33m=\u001b[0m \u001b[0mget_dom_color\u001b[0m\u001b[1;33m(\u001b[0m\u001b[0mmeta\u001b[0m\u001b[1;33m[\u001b[0m\u001b[1;34m'cover_id'\u001b[0m\u001b[1;33m]\u001b[0m\u001b[1;33m,\u001b[0m \u001b[1;34m'image2'\u001b[0m\u001b[1;33m)\u001b[0m\u001b[1;33m\u001b[0m\u001b[1;33m\u001b[0m\u001b[0m\n\u001b[0m\u001b[0;32m      2\u001b[0m \u001b[0mdom_color_df\u001b[0m\u001b[1;33m.\u001b[0m\u001b[0mto_csv\u001b[0m\u001b[1;33m(\u001b[0m\u001b[1;34m'dominant_color.csv'\u001b[0m\u001b[1;33m,\u001b[0m \u001b[0mindex\u001b[0m \u001b[1;33m=\u001b[0m \u001b[1;32mFalse\u001b[0m\u001b[1;33m)\u001b[0m\u001b[1;33m\u001b[0m\u001b[1;33m\u001b[0m\u001b[0m\n",
      "\u001b[1;32m<ipython-input-7-b2d222ea52c6>\u001b[0m in \u001b[0;36mget_dom_color\u001b[1;34m(coverid_list, folder)\u001b[0m\n\u001b[0;32m      4\u001b[0m         \u001b[0mfilename\u001b[0m \u001b[1;33m=\u001b[0m \u001b[1;34m\"{}/{}.jpg\"\u001b[0m\u001b[1;33m.\u001b[0m\u001b[0mformat\u001b[0m\u001b[1;33m(\u001b[0m\u001b[0mfolder\u001b[0m\u001b[1;33m,\u001b[0m\u001b[0mcoverid\u001b[0m\u001b[1;33m)\u001b[0m\u001b[1;33m\u001b[0m\u001b[1;33m\u001b[0m\u001b[0m\n\u001b[0;32m      5\u001b[0m         \u001b[0mcolor_thief\u001b[0m \u001b[1;33m=\u001b[0m \u001b[0mColorThief\u001b[0m\u001b[1;33m(\u001b[0m\u001b[0mfilename\u001b[0m\u001b[1;33m)\u001b[0m\u001b[1;33m\u001b[0m\u001b[1;33m\u001b[0m\u001b[0m\n\u001b[1;32m----> 6\u001b[1;33m         \u001b[0mdom_color_list\u001b[0m\u001b[1;33m.\u001b[0m\u001b[0mappend\u001b[0m\u001b[1;33m(\u001b[0m\u001b[0mcolor_thief\u001b[0m\u001b[1;33m.\u001b[0m\u001b[0mget_color\u001b[0m\u001b[1;33m(\u001b[0m\u001b[0mquality\u001b[0m\u001b[1;33m=\u001b[0m\u001b[1;36m1\u001b[0m\u001b[1;33m)\u001b[0m\u001b[1;33m)\u001b[0m\u001b[1;33m\u001b[0m\u001b[1;33m\u001b[0m\u001b[0m\n\u001b[0m\u001b[0;32m      7\u001b[0m     \u001b[1;32mreturn\u001b[0m \u001b[0mpd\u001b[0m\u001b[1;33m.\u001b[0m\u001b[0mDataFrame\u001b[0m\u001b[1;33m(\u001b[0m\u001b[0mdom_color_list\u001b[0m\u001b[1;33m)\u001b[0m\u001b[1;33m\u001b[0m\u001b[1;33m\u001b[0m\u001b[0m\n",
      "\u001b[1;32mc:\\users\\jenny\\appdata\\local\\programs\\python\\python37\\lib\\site-packages\\colorthief.py\u001b[0m in \u001b[0;36mget_color\u001b[1;34m(self, quality)\u001b[0m\n\u001b[0;32m     48\u001b[0m         \u001b[1;33m:\u001b[0m\u001b[1;32mreturn\u001b[0m \u001b[0mtuple\u001b[0m\u001b[1;33m:\u001b[0m \u001b[1;33m(\u001b[0m\u001b[0mr\u001b[0m\u001b[1;33m,\u001b[0m \u001b[0mg\u001b[0m\u001b[1;33m,\u001b[0m \u001b[0mb\u001b[0m\u001b[1;33m)\u001b[0m\u001b[1;33m\u001b[0m\u001b[1;33m\u001b[0m\u001b[0m\n\u001b[0;32m     49\u001b[0m         \"\"\"\n\u001b[1;32m---> 50\u001b[1;33m         \u001b[0mpalette\u001b[0m \u001b[1;33m=\u001b[0m \u001b[0mself\u001b[0m\u001b[1;33m.\u001b[0m\u001b[0mget_palette\u001b[0m\u001b[1;33m(\u001b[0m\u001b[1;36m5\u001b[0m\u001b[1;33m,\u001b[0m \u001b[0mquality\u001b[0m\u001b[1;33m)\u001b[0m\u001b[1;33m\u001b[0m\u001b[1;33m\u001b[0m\u001b[0m\n\u001b[0m\u001b[0;32m     51\u001b[0m         \u001b[1;32mreturn\u001b[0m \u001b[0mpalette\u001b[0m\u001b[1;33m[\u001b[0m\u001b[1;36m0\u001b[0m\u001b[1;33m]\u001b[0m\u001b[1;33m\u001b[0m\u001b[1;33m\u001b[0m\u001b[0m\n\u001b[0;32m     52\u001b[0m \u001b[1;33m\u001b[0m\u001b[0m\n",
      "\u001b[1;32mc:\\users\\jenny\\appdata\\local\\programs\\python\\python37\\lib\\site-packages\\colorthief.py\u001b[0m in \u001b[0;36mget_palette\u001b[1;34m(self, color_count, quality)\u001b[0m\n\u001b[0;32m     75\u001b[0m         \u001b[1;31m# Send array to quantize function which clusters values\u001b[0m\u001b[1;33m\u001b[0m\u001b[1;33m\u001b[0m\u001b[1;33m\u001b[0m\u001b[0m\n\u001b[0;32m     76\u001b[0m         \u001b[1;31m# using median cut algorithm\u001b[0m\u001b[1;33m\u001b[0m\u001b[1;33m\u001b[0m\u001b[1;33m\u001b[0m\u001b[0m\n\u001b[1;32m---> 77\u001b[1;33m         \u001b[0mcmap\u001b[0m \u001b[1;33m=\u001b[0m \u001b[0mMMCQ\u001b[0m\u001b[1;33m.\u001b[0m\u001b[0mquantize\u001b[0m\u001b[1;33m(\u001b[0m\u001b[0mvalid_pixels\u001b[0m\u001b[1;33m,\u001b[0m \u001b[0mcolor_count\u001b[0m\u001b[1;33m)\u001b[0m\u001b[1;33m\u001b[0m\u001b[1;33m\u001b[0m\u001b[0m\n\u001b[0m\u001b[0;32m     78\u001b[0m         \u001b[1;32mreturn\u001b[0m \u001b[0mcmap\u001b[0m\u001b[1;33m.\u001b[0m\u001b[0mpalette\u001b[0m\u001b[1;33m\u001b[0m\u001b[1;33m\u001b[0m\u001b[0m\n\u001b[0;32m     79\u001b[0m \u001b[1;33m\u001b[0m\u001b[0m\n",
      "\u001b[1;32mc:\\users\\jenny\\appdata\\local\\programs\\python\\python37\\lib\\site-packages\\colorthief.py\u001b[0m in \u001b[0;36mquantize\u001b[1;34m(pixels, max_color)\u001b[0m\n\u001b[0;32m    226\u001b[0m \u001b[1;33m\u001b[0m\u001b[0m\n\u001b[0;32m    227\u001b[0m         \u001b[1;31m# get the beginning vbox from the colors\u001b[0m\u001b[1;33m\u001b[0m\u001b[1;33m\u001b[0m\u001b[1;33m\u001b[0m\u001b[0m\n\u001b[1;32m--> 228\u001b[1;33m         \u001b[0mvbox\u001b[0m \u001b[1;33m=\u001b[0m \u001b[0mMMCQ\u001b[0m\u001b[1;33m.\u001b[0m\u001b[0mvbox_from_pixels\u001b[0m\u001b[1;33m(\u001b[0m\u001b[0mpixels\u001b[0m\u001b[1;33m,\u001b[0m \u001b[0mhisto\u001b[0m\u001b[1;33m)\u001b[0m\u001b[1;33m\u001b[0m\u001b[1;33m\u001b[0m\u001b[0m\n\u001b[0m\u001b[0;32m    229\u001b[0m         \u001b[0mpq\u001b[0m \u001b[1;33m=\u001b[0m \u001b[0mPQueue\u001b[0m\u001b[1;33m(\u001b[0m\u001b[1;32mlambda\u001b[0m \u001b[0mx\u001b[0m\u001b[1;33m:\u001b[0m \u001b[0mx\u001b[0m\u001b[1;33m.\u001b[0m\u001b[0mcount\u001b[0m\u001b[1;33m)\u001b[0m\u001b[1;33m\u001b[0m\u001b[1;33m\u001b[0m\u001b[0m\n\u001b[0;32m    230\u001b[0m         \u001b[0mpq\u001b[0m\u001b[1;33m.\u001b[0m\u001b[0mpush\u001b[0m\u001b[1;33m(\u001b[0m\u001b[0mvbox\u001b[0m\u001b[1;33m)\u001b[0m\u001b[1;33m\u001b[0m\u001b[1;33m\u001b[0m\u001b[0m\n",
      "\u001b[1;32mc:\\users\\jenny\\appdata\\local\\programs\\python\\python37\\lib\\site-packages\\colorthief.py\u001b[0m in \u001b[0;36mvbox_from_pixels\u001b[1;34m(pixels, histo)\u001b[0m\n\u001b[0;32m    119\u001b[0m             \u001b[0mgval\u001b[0m \u001b[1;33m=\u001b[0m \u001b[0mpixel\u001b[0m\u001b[1;33m[\u001b[0m\u001b[1;36m1\u001b[0m\u001b[1;33m]\u001b[0m \u001b[1;33m>>\u001b[0m \u001b[0mMMCQ\u001b[0m\u001b[1;33m.\u001b[0m\u001b[0mRSHIFT\u001b[0m\u001b[1;33m\u001b[0m\u001b[1;33m\u001b[0m\u001b[0m\n\u001b[0;32m    120\u001b[0m             \u001b[0mbval\u001b[0m \u001b[1;33m=\u001b[0m \u001b[0mpixel\u001b[0m\u001b[1;33m[\u001b[0m\u001b[1;36m2\u001b[0m\u001b[1;33m]\u001b[0m \u001b[1;33m>>\u001b[0m \u001b[0mMMCQ\u001b[0m\u001b[1;33m.\u001b[0m\u001b[0mRSHIFT\u001b[0m\u001b[1;33m\u001b[0m\u001b[1;33m\u001b[0m\u001b[0m\n\u001b[1;32m--> 121\u001b[1;33m             \u001b[0mrmin\u001b[0m \u001b[1;33m=\u001b[0m \u001b[0mmin\u001b[0m\u001b[1;33m(\u001b[0m\u001b[0mrval\u001b[0m\u001b[1;33m,\u001b[0m \u001b[0mrmin\u001b[0m\u001b[1;33m)\u001b[0m\u001b[1;33m\u001b[0m\u001b[1;33m\u001b[0m\u001b[0m\n\u001b[0m\u001b[0;32m    122\u001b[0m             \u001b[0mrmax\u001b[0m \u001b[1;33m=\u001b[0m \u001b[0mmax\u001b[0m\u001b[1;33m(\u001b[0m\u001b[0mrval\u001b[0m\u001b[1;33m,\u001b[0m \u001b[0mrmax\u001b[0m\u001b[1;33m)\u001b[0m\u001b[1;33m\u001b[0m\u001b[1;33m\u001b[0m\u001b[0m\n\u001b[0;32m    123\u001b[0m             \u001b[0mgmin\u001b[0m \u001b[1;33m=\u001b[0m \u001b[0mmin\u001b[0m\u001b[1;33m(\u001b[0m\u001b[0mgval\u001b[0m\u001b[1;33m,\u001b[0m \u001b[0mgmin\u001b[0m\u001b[1;33m)\u001b[0m\u001b[1;33m\u001b[0m\u001b[1;33m\u001b[0m\u001b[0m\n",
      "\u001b[1;31mKeyboardInterrupt\u001b[0m: "
     ]
    }
   ],
   "source": [
    "dom_color_df = get_dom_color(meta['cover_id'], 'image2')\n",
    "dom_color_df.to_csv('dominant_color.csv', index = False)"
   ]
  },
  {
   "cell_type": "code",
   "execution_count": 10,
   "metadata": {
    "ExecuteTime": {
     "end_time": "2020-05-15T17:54:37.124165Z",
     "start_time": "2020-05-15T17:54:37.096274Z"
    }
   },
   "outputs": [],
   "source": [
    "dom_color_df.to_csv('dominant_color.csv', index = False)"
   ]
  },
  {
   "cell_type": "code",
   "execution_count": 3,
   "metadata": {
    "ExecuteTime": {
     "end_time": "2020-05-15T16:26:58.789517Z",
     "start_time": "2020-05-15T16:26:55.693110Z"
    }
   },
   "outputs": [],
   "source": [
    "color_thief = ColorThief('image/210652.jpg')\n",
    "# get the dominant color\n",
    "dominant_color = color_thief.get_color(quality=1)"
   ]
  },
  {
   "cell_type": "code",
   "execution_count": null,
   "metadata": {},
   "outputs": [],
   "source": []
  },
  {
   "cell_type": "code",
   "execution_count": 5,
   "metadata": {
    "ExecuteTime": {
     "end_time": "2020-05-15T16:27:24.179300Z",
     "start_time": "2020-05-15T16:27:24.170324Z"
    }
   },
   "outputs": [
    {
     "data": {
      "text/html": [
       "<div>\n",
       "<style scoped>\n",
       "    .dataframe tbody tr th:only-of-type {\n",
       "        vertical-align: middle;\n",
       "    }\n",
       "\n",
       "    .dataframe tbody tr th {\n",
       "        vertical-align: top;\n",
       "    }\n",
       "\n",
       "    .dataframe thead th {\n",
       "        text-align: right;\n",
       "    }\n",
       "</style>\n",
       "<table border=\"1\" class=\"dataframe\">\n",
       "  <thead>\n",
       "    <tr style=\"text-align: right;\">\n",
       "      <th></th>\n",
       "      <th>0</th>\n",
       "      <th>1</th>\n",
       "      <th>2</th>\n",
       "    </tr>\n",
       "  </thead>\n",
       "  <tbody>\n",
       "    <tr>\n",
       "      <th>0</th>\n",
       "      <td>40</td>\n",
       "      <td>68</td>\n",
       "      <td>114</td>\n",
       "    </tr>\n",
       "    <tr>\n",
       "      <th>1</th>\n",
       "      <td>40</td>\n",
       "      <td>68</td>\n",
       "      <td>114</td>\n",
       "    </tr>\n",
       "  </tbody>\n",
       "</table>\n",
       "</div>"
      ],
      "text/plain": [
       "    0   1    2\n",
       "0  40  68  114\n",
       "1  40  68  114"
      ]
     },
     "execution_count": 5,
     "metadata": {},
     "output_type": "execute_result"
    }
   ],
   "source": [
    "pd.DataFrame([dominant_color,dominant_color])"
   ]
  },
  {
   "cell_type": "code",
   "execution_count": 4,
   "metadata": {
    "ExecuteTime": {
     "end_time": "2020-05-08T04:22:25.355764Z",
     "start_time": "2020-05-08T04:22:25.029957Z"
    }
   },
   "outputs": [],
   "source": [
    "palette = color_thief.get_palette(color_count=3)"
   ]
  },
  {
   "cell_type": "code",
   "execution_count": 6,
   "metadata": {
    "ExecuteTime": {
     "end_time": "2020-05-08T04:48:06.784425Z",
     "start_time": "2020-05-08T04:48:06.778445Z"
    }
   },
   "outputs": [
    {
     "data": {
      "text/plain": [
       "40"
      ]
     },
     "execution_count": 6,
     "metadata": {},
     "output_type": "execute_result"
    }
   ],
   "source": [
    "dominant_color[0]"
   ]
  },
  {
   "cell_type": "code",
   "execution_count": 5,
   "metadata": {
    "ExecuteTime": {
     "end_time": "2020-05-08T04:22:30.482418Z",
     "start_time": "2020-05-08T04:22:30.475575Z"
    }
   },
   "outputs": [
    {
     "data": {
      "text/plain": [
       "[(40, 68, 113), (179, 190, 205), (137, 165, 207), (137, 156, 190)]"
      ]
     },
     "execution_count": 5,
     "metadata": {},
     "output_type": "execute_result"
    }
   ],
   "source": [
    "palette"
   ]
  },
  {
   "cell_type": "code",
   "execution_count": 5,
   "metadata": {
    "ExecuteTime": {
     "end_time": "2020-05-11T17:27:54.810144Z",
     "start_time": "2020-05-11T17:27:54.793505Z"
    }
   },
   "outputs": [
    {
     "data": {
      "text/plain": [
       "'darkslategray'"
      ]
     },
     "execution_count": 5,
     "metadata": {},
     "output_type": "execute_result"
    }
   ],
   "source": [
    "# def dominant_main_colors(rgb_values):\n",
    "#     red = dominant_color[0]\n",
    "#     green = dominant_color[1]\n",
    "#     blue = dominant_color[2]\n",
    "    \n",
    "import webcolors\n",
    " \n",
    "def closest_colour(requested_colour):\n",
    "    min_colours = {}\n",
    "    for key, name in webcolors.CSS3_HEX_TO_NAMES.items():\n",
    "        r_c, g_c, b_c = webcolors.hex_to_rgb(key)\n",
    "        rd = (r_c - requested_colour[0]) ** 2\n",
    "        gd = (g_c - requested_colour[1]) ** 2\n",
    "        bd = (b_c - requested_colour[2]) ** 2\n",
    "        min_colours[(rd + gd + bd)] = name\n",
    "    return min_colours[min(min_colours.keys())]\n",
    "closest_colour(dominant_color)"
   ]
  },
  {
   "cell_type": "code",
   "execution_count": null,
   "metadata": {},
   "outputs": [],
   "source": [
    "main_colors = [\"black\", \"white\", \"gray\", \"red\", \"green\", \"blue\", \"yellow\", \"purple\"]"
   ]
  },
  {
   "cell_type": "code",
   "execution_count": 14,
   "metadata": {
    "ExecuteTime": {
     "end_time": "2020-05-12T19:42:24.928544Z",
     "start_time": "2020-05-12T19:42:24.906569Z"
    }
   },
   "outputs": [
    {
     "ename": "ModuleNotFoundError",
     "evalue": "No module named 'skimage.util.img_as_ubyte'",
     "output_type": "error",
     "traceback": [
      "\u001b[1;31m---------------------------------------------------------------------------\u001b[0m",
      "\u001b[1;31mModuleNotFoundError\u001b[0m                       Traceback (most recent call last)",
      "\u001b[1;32m<ipython-input-14-4b9c4f7b18c6>\u001b[0m in \u001b[0;36m<module>\u001b[1;34m\u001b[0m\n\u001b[0;32m      3\u001b[0m \u001b[1;32mfrom\u001b[0m \u001b[0mskimage\u001b[0m\u001b[1;33m.\u001b[0m\u001b[0mmorphology\u001b[0m \u001b[1;32mimport\u001b[0m \u001b[0mdisk\u001b[0m\u001b[1;33m\u001b[0m\u001b[1;33m\u001b[0m\u001b[0m\n\u001b[0;32m      4\u001b[0m \u001b[1;32mfrom\u001b[0m \u001b[0mskimage\u001b[0m\u001b[1;33m.\u001b[0m\u001b[0mcolor\u001b[0m \u001b[1;32mimport\u001b[0m \u001b[0mrgb2gray\u001b[0m\u001b[1;33m\u001b[0m\u001b[1;33m\u001b[0m\u001b[0m\n\u001b[1;32m----> 5\u001b[1;33m \u001b[1;32mimport\u001b[0m \u001b[0mskimage\u001b[0m\u001b[1;33m.\u001b[0m\u001b[0mutil\u001b[0m\u001b[1;33m.\u001b[0m\u001b[0mimg_as_ubyte\u001b[0m\u001b[1;33m\u001b[0m\u001b[1;33m\u001b[0m\u001b[0m\n\u001b[0m",
      "\u001b[1;31mModuleNotFoundError\u001b[0m: No module named 'skimage.util.img_as_ubyte'"
     ]
    }
   ],
   "source": [
    "from skimage.filters.rank import entropy\n",
    "from skimage import io\n",
    "from skimage.morphology import disk\n",
    "from skimage.color import rgb2gray"
   ]
  },
  {
   "cell_type": "code",
   "execution_count": null,
   "metadata": {},
   "outputs": [],
   "source": []
  }
 ],
 "metadata": {
  "kernelspec": {
   "display_name": "Python 3",
   "language": "python",
   "name": "python3"
  },
  "language_info": {
   "codemirror_mode": {
    "name": "ipython",
    "version": 3
   },
   "file_extension": ".py",
   "mimetype": "text/x-python",
   "name": "python",
   "nbconvert_exporter": "python",
   "pygments_lexer": "ipython3",
   "version": "3.7.3"
  },
  "toc": {
   "base_numbering": 1,
   "nav_menu": {},
   "number_sections": true,
   "sideBar": true,
   "skip_h1_title": false,
   "title_cell": "Table of Contents",
   "title_sidebar": "Contents",
   "toc_cell": false,
   "toc_position": {},
   "toc_section_display": true,
   "toc_window_display": false
  }
 },
 "nbformat": 4,
 "nbformat_minor": 2
}
