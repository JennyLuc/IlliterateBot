{
 "cells": [
  {
   "cell_type": "markdown",
   "metadata": {},
   "source": [
    "# Assignment 2 Playground"
   ]
  },
  {
   "cell_type": "code",
   "execution_count": 186,
   "metadata": {
    "ExecuteTime": {
     "end_time": "2020-04-27T00:45:17.293706Z",
     "start_time": "2020-04-27T00:45:17.286727Z"
    }
   },
   "outputs": [],
   "source": [
    "import pandas as pd\n",
    "import urllib.request\n",
    "import os\n",
    "from skimage.color import rgb2hsv\n",
    "from skimage.color import rgb2gray\n",
    "from skimage import io\n",
    "import numpy as np\n",
    "import random"
   ]
  },
  {
   "cell_type": "code",
   "execution_count": 157,
   "metadata": {
    "ExecuteTime": {
     "end_time": "2020-04-27T00:34:04.876531Z",
     "start_time": "2020-04-27T00:34:04.822647Z"
    }
   },
   "outputs": [
    {
     "data": {
      "text/html": [
       "<div>\n",
       "<style scoped>\n",
       "    .dataframe tbody tr th:only-of-type {\n",
       "        vertical-align: middle;\n",
       "    }\n",
       "\n",
       "    .dataframe tbody tr th {\n",
       "        vertical-align: top;\n",
       "    }\n",
       "\n",
       "    .dataframe thead th {\n",
       "        text-align: right;\n",
       "    }\n",
       "</style>\n",
       "<table border=\"1\" class=\"dataframe\">\n",
       "  <thead>\n",
       "    <tr style=\"text-align: right;\">\n",
       "      <th></th>\n",
       "      <th>Unnamed: 0</th>\n",
       "      <th>cover_id</th>\n",
       "      <th>title</th>\n",
       "      <th>author</th>\n",
       "      <th>year</th>\n",
       "      <th>genre</th>\n",
       "      <th>genre_alts</th>\n",
       "    </tr>\n",
       "  </thead>\n",
       "  <tbody>\n",
       "    <tr>\n",
       "      <th>0</th>\n",
       "      <td>0</td>\n",
       "      <td>5579108</td>\n",
       "      <td>On the Nature of the Universe</td>\n",
       "      <td>Titus Lucretius Carus</td>\n",
       "      <td>NaN</td>\n",
       "      <td>Science</td>\n",
       "      <td>['Translations into Italian', 'Accessible book...</td>\n",
       "    </tr>\n",
       "    <tr>\n",
       "      <th>1</th>\n",
       "      <td>1</td>\n",
       "      <td>None</td>\n",
       "      <td>[William Wheeler Hubbell, authorized to apply ...</td>\n",
       "      <td>United States. Congress. Senate. Committee on ...</td>\n",
       "      <td>NaN</td>\n",
       "      <td>Science</td>\n",
       "      <td>['Floor coverings', 'Springs (Mechanism)', 'Wi...</td>\n",
       "    </tr>\n",
       "    <tr>\n",
       "      <th>2</th>\n",
       "      <td>2</td>\n",
       "      <td>5788251</td>\n",
       "      <td>Moralia</td>\n",
       "      <td>Plutarch</td>\n",
       "      <td>NaN</td>\n",
       "      <td>Science</td>\n",
       "      <td>['Philosophy, ancient', 'Translations into Ita...</td>\n",
       "    </tr>\n",
       "    <tr>\n",
       "      <th>3</th>\n",
       "      <td>3</td>\n",
       "      <td>8236351</td>\n",
       "      <td>Essays</td>\n",
       "      <td>Francis Bacon</td>\n",
       "      <td>NaN</td>\n",
       "      <td>Science</td>\n",
       "      <td>['Aphorisms and apothegms', 'English essays', ...</td>\n",
       "    </tr>\n",
       "    <tr>\n",
       "      <th>4</th>\n",
       "      <td>4</td>\n",
       "      <td>8236442</td>\n",
       "      <td>Discours de la méthode</td>\n",
       "      <td>René Descartes</td>\n",
       "      <td>NaN</td>\n",
       "      <td>Science</td>\n",
       "      <td>['Accessible book', 'Optique', 'Sciences', 'Me...</td>\n",
       "    </tr>\n",
       "  </tbody>\n",
       "</table>\n",
       "</div>"
      ],
      "text/plain": [
       "   Unnamed: 0 cover_id                                              title  \\\n",
       "0           0  5579108                      On the Nature of the Universe   \n",
       "1           1     None  [William Wheeler Hubbell, authorized to apply ...   \n",
       "2           2  5788251                                            Moralia   \n",
       "3           3  8236351                                             Essays   \n",
       "4           4  8236442                             Discours de la méthode   \n",
       "\n",
       "                                              author  year    genre  \\\n",
       "0                              Titus Lucretius Carus   NaN  Science   \n",
       "1  United States. Congress. Senate. Committee on ...   NaN  Science   \n",
       "2                                           Plutarch   NaN  Science   \n",
       "3                                      Francis Bacon   NaN  Science   \n",
       "4                                     René Descartes   NaN  Science   \n",
       "\n",
       "                                          genre_alts  \n",
       "0  ['Translations into Italian', 'Accessible book...  \n",
       "1  ['Floor coverings', 'Springs (Mechanism)', 'Wi...  \n",
       "2  ['Philosophy, ancient', 'Translations into Ita...  \n",
       "3  ['Aphorisms and apothegms', 'English essays', ...  \n",
       "4  ['Accessible book', 'Optique', 'Sciences', 'Me...  "
      ]
     },
     "execution_count": 157,
     "metadata": {},
     "output_type": "execute_result"
    }
   ],
   "source": [
    "books_5_genres = pd.read_csv('2500_books_5_genres.csv')\n",
    "genre_list = ['Fantasy', 'Romance', 'Crime', 'Horror', 'Science']\n",
    "books_5_genres.head()"
   ]
  },
  {
   "cell_type": "code",
   "execution_count": 214,
   "metadata": {
    "ExecuteTime": {
     "end_time": "2020-04-27T01:28:42.746786Z",
     "start_time": "2020-04-27T01:22:11.538479Z"
    }
   },
   "outputs": [
    {
     "name": "stdout",
     "output_type": "stream",
     "text": [
      "1\n",
      "2\n",
      "3\n",
      "4\n",
      "5\n",
      "6\n",
      "7\n",
      "8\n",
      "9\n",
      "10\n",
      "11\n",
      "12\n",
      "13\n",
      "14\n",
      "15\n",
      "16\n",
      "17\n",
      "18\n",
      "19\n",
      "20\n",
      "21\n",
      "22\n",
      "23\n",
      "24\n",
      "25\n",
      "26\n",
      "27\n",
      "28\n",
      "29\n",
      "30\n",
      "31\n",
      "32\n",
      "33\n",
      "34\n",
      "35\n",
      "36\n",
      "37\n",
      "38\n",
      "39\n",
      "40\n",
      "41\n",
      "42\n",
      "43\n",
      "44\n",
      "45\n",
      "46\n",
      "47\n",
      "48\n",
      "49\n",
      "50\n",
      "51\n",
      "52\n",
      "53\n",
      "54\n",
      "55\n",
      "56\n",
      "57\n",
      "58\n",
      "59\n",
      "60\n",
      "61\n",
      "62\n",
      "63\n",
      "64\n",
      "65\n",
      "66\n",
      "67\n",
      "68\n",
      "69\n",
      "70\n",
      "71\n",
      "72\n",
      "73\n",
      "74\n",
      "75\n",
      "76\n",
      "77\n",
      "78\n",
      "79\n",
      "80\n",
      "81\n",
      "82\n",
      "83\n",
      "84\n",
      "85\n",
      "86\n",
      "87\n",
      "88\n",
      "89\n",
      "90\n",
      "91\n",
      "92\n",
      "93\n",
      "94\n",
      "95\n",
      "96\n",
      "97\n",
      "98\n",
      "99\n",
      "100\n",
      "101\n",
      "102\n",
      "103\n",
      "104\n",
      "105\n",
      "106\n",
      "107\n",
      "108\n",
      "109\n",
      "110\n",
      "111\n",
      "112\n",
      "113\n",
      "114\n",
      "115\n",
      "116\n",
      "117\n",
      "118\n",
      "119\n",
      "120\n",
      "121\n",
      "122\n",
      "123\n",
      "124\n",
      "125\n",
      "126\n",
      "127\n",
      "128\n",
      "129\n",
      "130\n",
      "131\n",
      "132\n",
      "133\n",
      "134\n",
      "135\n",
      "136\n",
      "137\n",
      "138\n",
      "139\n",
      "140\n",
      "141\n",
      "142\n",
      "143\n",
      "144\n",
      "145\n",
      "146\n",
      "147\n",
      "148\n",
      "149\n",
      "150\n",
      "151\n",
      "152\n",
      "153\n",
      "154\n",
      "155\n",
      "156\n",
      "157\n",
      "158\n",
      "159\n",
      "160\n",
      "161\n",
      "162\n",
      "163\n",
      "164\n",
      "165\n",
      "166\n",
      "167\n",
      "168\n",
      "169\n",
      "170\n",
      "171\n",
      "172\n",
      "173\n",
      "174\n",
      "175\n",
      "176\n",
      "177\n",
      "178\n",
      "179\n",
      "180\n",
      "181\n",
      "182\n",
      "183\n",
      "184\n",
      "185\n",
      "186\n",
      "187\n",
      "188\n",
      "189\n",
      "190\n",
      "191\n",
      "192\n",
      "193\n",
      "194\n",
      "195\n",
      "196\n",
      "197\n",
      "198\n",
      "199\n",
      "200\n",
      "201\n",
      "202\n",
      "203\n",
      "204\n",
      "205\n",
      "206\n",
      "207\n",
      "208\n",
      "209\n",
      "210\n",
      "211\n",
      "212\n",
      "213\n",
      "214\n",
      "215\n",
      "216\n",
      "217\n",
      "218\n",
      "219\n",
      "220\n",
      "221\n",
      "222\n",
      "223\n",
      "224\n",
      "225\n",
      "226\n",
      "227\n",
      "228\n",
      "229\n",
      "230\n",
      "231\n",
      "232\n",
      "233\n",
      "234\n",
      "235\n",
      "236\n",
      "237\n",
      "238\n",
      "239\n",
      "240\n",
      "241\n",
      "242\n",
      "243\n",
      "244\n",
      "245\n",
      "246\n",
      "247\n",
      "248\n",
      "249\n",
      "250\n",
      "250\n",
      "250\n"
     ]
    }
   ],
   "source": [
    "metadata = sample_genres(genre_list, 250, books_5_genres, 'image')"
   ]
  },
  {
   "cell_type": "code",
   "execution_count": 212,
   "metadata": {
    "ExecuteTime": {
     "end_time": "2020-04-27T01:20:40.308872Z",
     "start_time": "2020-04-27T01:20:40.298899Z"
    }
   },
   "outputs": [],
   "source": [
    "def sample_genres(list_of_genres, sample_size, df, folder):\n",
    "    df = df.drop(df[df.cover_id == 'None'].index)\n",
    "    sampled_df = pd.DataFrame()\n",
    "    for genre in genre_list:\n",
    "        sampled_df = pd.concat([df[df.genre == genre].sample(int(sample_size/5)), sampled_df])\n",
    "#     print(len(df))\n",
    "    download_images(sampled_df, folder)\n",
    "    return sampled_df"
   ]
  },
  {
   "cell_type": "code",
   "execution_count": 18,
   "metadata": {
    "ExecuteTime": {
     "end_time": "2020-04-26T01:20:42.899461Z",
     "start_time": "2020-04-26T01:20:42.886495Z"
    }
   },
   "outputs": [],
   "source": [
    "# get pixel counts\n",
    "def pixcount(painting): \n",
    "    return painting.shape[0] * painting.shape[1]\n",
    "\n",
    "#get saturation\n",
    "def mean_saturation(link):\n",
    "    hsv_img = rgb2hsv(link)\n",
    "    saturation_img = hsv_img[:,:, 1]\n",
    "    satur = np.mean(saturation_img, axis=(0,1))\n",
    "    return satur\n",
    "\n",
    "#get hue\n",
    "def mean_hue(link):\n",
    "    hsv_img = rgb2hsv(link)\n",
    "    hue_img = hsv_img[:, :, 0]\n",
    "    return np.mean(hue_img, axis=(0,1))\n",
    "\n",
    "#get brightness\n",
    "def mean_brightness(link):\n",
    "    hsv_img = rgb2hsv(link)\n",
    "    value_img = hsv_img[:, :, 2]\n",
    "    return np.mean(value_img)\n",
    "\n",
    "#creates folder of the passed in param\n",
    "def create_directory (folder):\n",
    "   \n",
    "    if not os.path.isdir(folder):\n",
    "        os.makedirs(folder)\n",
    "create_directory('image')"
   ]
  },
  {
   "cell_type": "code",
   "execution_count": 202,
   "metadata": {
    "ExecuteTime": {
     "end_time": "2020-04-27T01:09:28.931730Z",
     "start_time": "2020-04-27T01:09:28.917766Z"
    }
   },
   "outputs": [],
   "source": [
    "def download_images(meta_df, folder):\n",
    "#     meta_df = meta_df.dropna()\n",
    "#     if \"Unnamed: 0\" in meta_df.columns:\n",
    "#         meta_df = meta_df.drop(\"Unnamed: 0\", axis = 1)\n",
    "    create_directory(folder)\n",
    "    pix = []\n",
    "    brightness = []\n",
    "    hue = []\n",
    "    saturation = []\n",
    "    count = 0\n",
    "    for coverid in meta_df['cover_id']:\n",
    "#         count += 1\n",
    "#         print(count)\n",
    "        if coverid == 'None':\n",
    "            continue\n",
    "        link = \"http://covers.openlibrary.org/b/id/{}-L.jpg\".format(coverid)\n",
    "        \n",
    "        rendered_link = io.imread(link)\n",
    "        \n",
    "        pix.append(pixcount(rendered_link))\n",
    "        print(len(pix))\n",
    "        brightness.append(mean_brightness(rendered_link))\n",
    "        hue.append(mean_hue(rendered_link))\n",
    "        saturation.append(mean_saturation(rendered_link))\n",
    "        \n",
    "        filename = \"{}/{}.jpg\".format(folder,coverid)\n",
    "        urllib.request.urlretrieve(link, filename)\n",
    "#     print(len(pix))\n",
    "    print(len(meta_df))\n",
    "    meta_df['pixel_count'] = pix\n",
    "    meta_df['mean_brightness'] = brightness\n",
    "    meta_df['mean_hue'] = hue\n",
    "    meta_df['mean_saturation'] = saturation\n",
    "\n",
    "    return meta_df"
   ]
  },
  {
   "cell_type": "code",
   "execution_count": 216,
   "metadata": {
    "ExecuteTime": {
     "end_time": "2020-04-27T02:06:41.718025Z",
     "start_time": "2020-04-27T02:06:41.686136Z"
    }
   },
   "outputs": [
    {
     "data": {
      "text/html": [
       "<div>\n",
       "<style scoped>\n",
       "    .dataframe tbody tr th:only-of-type {\n",
       "        vertical-align: middle;\n",
       "    }\n",
       "\n",
       "    .dataframe tbody tr th {\n",
       "        vertical-align: top;\n",
       "    }\n",
       "\n",
       "    .dataframe thead th {\n",
       "        text-align: right;\n",
       "    }\n",
       "</style>\n",
       "<table border=\"1\" class=\"dataframe\">\n",
       "  <thead>\n",
       "    <tr style=\"text-align: right;\">\n",
       "      <th></th>\n",
       "      <th>Unnamed: 0</th>\n",
       "      <th>cover_id</th>\n",
       "      <th>title</th>\n",
       "      <th>author</th>\n",
       "      <th>year</th>\n",
       "      <th>genre</th>\n",
       "      <th>genre_alts</th>\n",
       "      <th>pixel_count</th>\n",
       "      <th>mean_brightness</th>\n",
       "      <th>mean_hue</th>\n",
       "      <th>mean_saturation</th>\n",
       "    </tr>\n",
       "  </thead>\n",
       "  <tbody>\n",
       "    <tr>\n",
       "      <th>111</th>\n",
       "      <td>111</td>\n",
       "      <td>5037246</td>\n",
       "      <td>Selections</td>\n",
       "      <td>Jawaharlal Nehru</td>\n",
       "      <td>NaN</td>\n",
       "      <td>Science</td>\n",
       "      <td>['Correspondence', 'Politics and government', ...</td>\n",
       "      <td>24064</td>\n",
       "      <td>0.809376</td>\n",
       "      <td>0.048985</td>\n",
       "      <td>0.417121</td>\n",
       "    </tr>\n",
       "    <tr>\n",
       "      <th>413</th>\n",
       "      <td>413</td>\n",
       "      <td>9300818</td>\n",
       "      <td>Motion, Sound, and Heat</td>\n",
       "      <td>Isaac Asimov</td>\n",
       "      <td>NaN</td>\n",
       "      <td>Science</td>\n",
       "      <td>['Science', 'Accessible book', 'Physics', 'Pro...</td>\n",
       "      <td>143500</td>\n",
       "      <td>0.755528</td>\n",
       "      <td>0.243541</td>\n",
       "      <td>0.463230</td>\n",
       "    </tr>\n",
       "    <tr>\n",
       "      <th>268</th>\n",
       "      <td>268</td>\n",
       "      <td>9243167</td>\n",
       "      <td>Introduction to the history of science</td>\n",
       "      <td>George Sarton</td>\n",
       "      <td>NaN</td>\n",
       "      <td>Science</td>\n",
       "      <td>['Histoire', 'Science', 'Accessible book', 'Sc...</td>\n",
       "      <td>142000</td>\n",
       "      <td>0.807446</td>\n",
       "      <td>0.116844</td>\n",
       "      <td>0.173325</td>\n",
       "    </tr>\n",
       "    <tr>\n",
       "      <th>47</th>\n",
       "      <td>47</td>\n",
       "      <td>5493820</td>\n",
       "      <td>Rock-forming minerals</td>\n",
       "      <td>W. A. Deer</td>\n",
       "      <td>NaN</td>\n",
       "      <td>Science</td>\n",
       "      <td>['Rock-forming minerals', 'Mineralogy', 'Scien...</td>\n",
       "      <td>23680</td>\n",
       "      <td>0.349693</td>\n",
       "      <td>0.482057</td>\n",
       "      <td>0.197143</td>\n",
       "    </tr>\n",
       "    <tr>\n",
       "      <th>499</th>\n",
       "      <td>499</td>\n",
       "      <td>7886767</td>\n",
       "      <td>Surely You're Joking, Mr. Feynman!</td>\n",
       "      <td>Richard Phillips Feynman</td>\n",
       "      <td>NaN</td>\n",
       "      <td>Science</td>\n",
       "      <td>['Humor', 'Anecdotes', 'Science', 'Accessible ...</td>\n",
       "      <td>78196</td>\n",
       "      <td>0.504256</td>\n",
       "      <td>0.502029</td>\n",
       "      <td>0.300883</td>\n",
       "    </tr>\n",
       "  </tbody>\n",
       "</table>\n",
       "</div>"
      ],
      "text/plain": [
       "     Unnamed: 0 cover_id                                   title  \\\n",
       "111         111  5037246                              Selections   \n",
       "413         413  9300818                 Motion, Sound, and Heat   \n",
       "268         268  9243167  Introduction to the history of science   \n",
       "47           47  5493820                   Rock-forming minerals   \n",
       "499         499  7886767      Surely You're Joking, Mr. Feynman!   \n",
       "\n",
       "                       author  year    genre  \\\n",
       "111          Jawaharlal Nehru   NaN  Science   \n",
       "413              Isaac Asimov   NaN  Science   \n",
       "268             George Sarton   NaN  Science   \n",
       "47                 W. A. Deer   NaN  Science   \n",
       "499  Richard Phillips Feynman   NaN  Science   \n",
       "\n",
       "                                            genre_alts  pixel_count  \\\n",
       "111  ['Correspondence', 'Politics and government', ...        24064   \n",
       "413  ['Science', 'Accessible book', 'Physics', 'Pro...       143500   \n",
       "268  ['Histoire', 'Science', 'Accessible book', 'Sc...       142000   \n",
       "47   ['Rock-forming minerals', 'Mineralogy', 'Scien...        23680   \n",
       "499  ['Humor', 'Anecdotes', 'Science', 'Accessible ...        78196   \n",
       "\n",
       "     mean_brightness  mean_hue  mean_saturation  \n",
       "111         0.809376  0.048985         0.417121  \n",
       "413         0.755528  0.243541         0.463230  \n",
       "268         0.807446  0.116844         0.173325  \n",
       "47          0.349693  0.482057         0.197143  \n",
       "499         0.504256  0.502029         0.300883  "
      ]
     },
     "execution_count": 216,
     "metadata": {},
     "output_type": "execute_result"
    }
   ],
   "source": [
    "metadata.head()"
   ]
  },
  {
   "cell_type": "code",
   "execution_count": 261,
   "metadata": {
    "ExecuteTime": {
     "end_time": "2020-04-27T02:39:14.776918Z",
     "start_time": "2020-04-27T02:39:14.271612Z"
    }
   },
   "outputs": [
    {
     "data": {
      "image/png": "[encoded data removed]",
      "text/plain": [
       "<Figure size 800x640 with 1 Axes>"
      ]
     },
     "metadata": {
      "needs_background": "light"
     },
     "output_type": "display_data"
    }
   ],
   "source": [
    "from matplotlib import pyplot as plt\n",
    "from matplotlib.pyplot import figure\n",
    "#fantasy romance crime horror science\n",
    "\n",
    "science_saturation = metadata[metadata.genre == 'Science'].mean_saturation\n",
    "fantasy_saturation = metadata[metadata.genre == 'Fantasy'].mean_saturation\n",
    "crime_saturation = metadata[metadata.genre == 'Crime'].mean_saturation\n",
    "horror_saturation = metadata[metadata.genre == 'Horror'].mean_saturation\n",
    "romance_saturation = metadata[metadata.genre == 'Romance'].mean_saturation\n",
    "\n",
    "science_brightness = metadata[metadata.genre == 'Science'].mean_brightness\n",
    "fantasy_brightness = metadata[metadata.genre == 'Fantasy'].mean_brightness\n",
    "crime_brightness = metadata[metadata.genre == 'Crime'].mean_brightness\n",
    "horror_brightness = metadata[metadata.genre == 'Horror'].mean_brightness\n",
    "romance_brightness = metadata[metadata.genre == 'Romance'].mean_brightness\n",
    "\n",
    "bins = np.linspace(0, 1, 100)\n",
    "plt.figure(figsize = (10,8), dpi = 80)\n",
    "plt.legend((s, f, c, h, r), ('science', 'fantasy', 'crime', 'horror', 'romance'))\n",
    "plt.xlabel('mean_saturation')\n",
    "plt.ylabel('mean_brightness')\n",
    "\n",
    "\n",
    "s = plt.scatter(science_saturation, science_brightness, color = 'springgreen')\n",
    "f = plt.scatter(fantasy_saturation, fantasy_brightness, color = 'darkorchid')\n",
    "c = plt.scatter(crime_saturation, crime_brightness, color = 'dodgerblue')\n",
    "h = plt.scatter(horror_saturation, horror_brightness, color = 'gold')\n",
    "r = plt.scatter(romance_saturation, romance_brightness, color = 'tomato')\n"
   ]
  },
  {
   "cell_type": "markdown",
   "metadata": {},
   "source": [
    "# Histogram of saturation mean"
   ]
  },
  {
   "cell_type": "code",
   "execution_count": 273,
   "metadata": {
    "ExecuteTime": {
     "end_time": "2020-04-27T02:59:48.734319Z",
     "start_time": "2020-04-27T02:59:48.169374Z"
    }
   },
   "outputs": [
    {
     "data": {
      "image/png": "[encoded data removed]",
      "text/plain": [
       "<Figure size 800x640 with 1 Axes>"
      ]
     },
     "metadata": {
      "needs_background": "light"
     },
     "output_type": "display_data"
    }
   ],
   "source": [
    "plt.style.use('seaborn-colorblind')\n",
    "\n",
    "#fantasy romance crime horror science\n",
    "\n",
    "# science_saturation = metadata[metadata.genre == 'Science'].mean_saturation\n",
    "# fantasy_saturation = metadata[metadata.genre == 'Fantasy'].mean_saturation\n",
    "# crime_saturation = metadata[metadata.genre == 'Crime'].mean_saturation\n",
    "# horror_saturation = metadata[metadata.genre == 'Horror'].mean_saturation\n",
    "# romance_saturation = metadata[metadata.genre == 'Romance'].mean_saturation\n",
    "bins = np.linspace(0, 1, 10)\n",
    "plt.figure(figsize = (10,8), dpi = 80)\n",
    "plt.hist([science_saturation, fantasy_saturation,crime_saturation, horror_saturation, romance_saturation], \n",
    "         bins, label=['science', 'fantasy', 'crime','horror', 'romance'])\n",
    "plt.legend(loc='upper right')\n",
    "plt.xlabel('mean_saturation')\n",
    "plt.ylabel('count')\n",
    "plt.show()"
   ]
  },
  {
   "cell_type": "markdown",
   "metadata": {},
   "source": [
    "# Histogram of brightness mean"
   ]
  },
  {
   "cell_type": "code",
   "execution_count": 271,
   "metadata": {
    "ExecuteTime": {
     "end_time": "2020-04-27T02:57:02.675118Z",
     "start_time": "2020-04-27T02:57:01.755682Z"
    }
   },
   "outputs": [
    {
     "data": {
      "image/png": "[encoded data removed]",
      "text/plain": [
       "<Figure size 800x640 with 1 Axes>"
      ]
     },
     "metadata": {
      "needs_background": "light"
     },
     "output_type": "display_data"
    }
   ],
   "source": [
    "#fantasy romance crime horror science\n",
    "\n",
    "bins = np.linspace(0, 1, 10)\n",
    "plt.figure(figsize = (10,8), dpi = 80)\n",
    "plt.hist([science_brightness, fantasy_brightness,crime_brightness, horror_brightness, romance_brightness], \n",
    "         bins, label=['science', 'fantasy', 'crime','horror', 'romance'])\n",
    "plt.legend(loc='upper right')\n",
    "plt.xlabel('mean_brightness')\n",
    "plt.ylabel('count')\n",
    "plt.show()"
   ]
  },
  {
   "cell_type": "markdown",
   "metadata": {},
   "source": [
    "# Histogram of hue mean"
   ]
  },
  {
   "cell_type": "code",
   "execution_count": 272,
   "metadata": {
    "ExecuteTime": {
     "end_time": "2020-04-27T02:58:27.120965Z",
     "start_time": "2020-04-27T02:58:26.612000Z"
    }
   },
   "outputs": [
    {
     "data": {
      "image/png": "[encoded data removed]",
      "text/plain": [
       "<Figure size 800x640 with 1 Axes>"
      ]
     },
     "metadata": {
      "needs_background": "light"
     },
     "output_type": "display_data"
    }
   ],
   "source": [
    "\n",
    "science_hue = metadata[metadata.genre == 'Science'].mean_hue\n",
    "fantasy_hue = metadata[metadata.genre == 'Fantasy'].mean_hue\n",
    "crime_hue = metadata[metadata.genre == 'Crime'].mean_hue\n",
    "horror_hue = metadata[metadata.genre == 'Horror'].mean_hue\n",
    "romance_hue = metadata[metadata.genre == 'Romance'].mean_hue\n",
    "\n",
    "bins = np.linspace(0, 1, 10)\n",
    "plt.figure(figsize = (10,8), dpi = 80)\n",
    "plt.hist([science_hue, fantasy_hue,crime_hue, horror_hue, romance_hue], \n",
    "         bins, label=['science', 'fantasy', 'crime','horror', 'romance'])\n",
    "plt.legend(loc='upper right')\n",
    "plt.xlabel('mean_hue')\n",
    "plt.ylabel('count')\n",
    "plt.show()"
   ]
  },
  {
   "cell_type": "code",
   "execution_count": null,
   "metadata": {},
   "outputs": [],
   "source": []
  }
 ],
 "metadata": {
  "kernelspec": {
   "display_name": "Python 3",
   "language": "python",
   "name": "python3"
  },
  "language_info": {
   "codemirror_mode": {
    "name": "ipython",
    "version": 3
   },
   "file_extension": ".py",
   "mimetype": "text/x-python",
   "name": "python",
   "nbconvert_exporter": "python",
   "pygments_lexer": "ipython3",
   "version": "3.7.3"
  },
  "toc": {
   "base_numbering": 1,
   "nav_menu": {},
   "number_sections": true,
   "sideBar": true,
   "skip_h1_title": false,
   "title_cell": "Table of Contents",
   "title_sidebar": "Contents",
   "toc_cell": false,
   "toc_position": {},
   "toc_section_display": true,
   "toc_window_display": false
  }
 },
 "nbformat": 4,
 "nbformat_minor": 2
}
